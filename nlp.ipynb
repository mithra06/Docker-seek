{
 "cells": [
  {
   "cell_type": "code",
   "execution_count": 1,
   "id": "6b82eaa8",
   "metadata": {},
   "outputs": [],
   "source": [
    "import pandas as pd\n",
    "import matplotlib.pyplot as plt\n",
    "%matplotlib inline"
   ]
  },
  {
   "cell_type": "code",
   "execution_count": 2,
   "id": "3482f272",
   "metadata": {},
   "outputs": [],
   "source": [
    "df=pd.read_csv(\"data/dataset-seek.csv\")\n",
    "df1=df.iloc[:520,1:]"
   ]
  },
  {
   "cell_type": "code",
   "execution_count": null,
   "id": "e0f3d177",
   "metadata": {},
   "outputs": [],
   "source": []
  },
  {
   "cell_type": "code",
   "execution_count": 3,
   "id": "ae5bec6b",
   "metadata": {},
   "outputs": [
    {
     "data": {
      "text/html": [
       "<div>\n",
       "<style scoped>\n",
       "    .dataframe tbody tr th:only-of-type {\n",
       "        vertical-align: middle;\n",
       "    }\n",
       "\n",
       "    .dataframe tbody tr th {\n",
       "        vertical-align: top;\n",
       "    }\n",
       "\n",
       "    .dataframe thead th {\n",
       "        text-align: right;\n",
       "    }\n",
       "</style>\n",
       "<table border=\"1\" class=\"dataframe\">\n",
       "  <thead>\n",
       "    <tr style=\"text-align: right;\">\n",
       "      <th></th>\n",
       "      <th>description</th>\n",
       "      <th>title</th>\n",
       "      <th>salary</th>\n",
       "      <th>company</th>\n",
       "      <th>location</th>\n",
       "      <th>class</th>\n",
       "      <th>days_before</th>\n",
       "    </tr>\n",
       "  </thead>\n",
       "  <tbody>\n",
       "    <tr>\n",
       "      <th>0</th>\n",
       "      <td>Work with a leading business to continue to bu...</td>\n",
       "      <td>Machine Learning Engineer</td>\n",
       "      <td>$150 - $160k + super + benefits</td>\n",
       "      <td>TheDriveGroup</td>\n",
       "      <td>Sydney NSW</td>\n",
       "      <td>Information &amp; Communication Technology</td>\n",
       "      <td>5d ago</td>\n",
       "    </tr>\n",
       "    <tr>\n",
       "      <th>1</th>\n",
       "      <td>Looking for exceptional Machine Learning Engin...</td>\n",
       "      <td>Machine Learning Engineer</td>\n",
       "      <td>$220k - $270k inc. Super (Excluding Equity)</td>\n",
       "      <td>Charterhouse</td>\n",
       "      <td>Sydney NSW</td>\n",
       "      <td>Information &amp; Communication Technology</td>\n",
       "      <td>5d ago</td>\n",
       "    </tr>\n",
       "    <tr>\n",
       "      <th>2</th>\n",
       "      <td>Picture this… you, working on software that tr...</td>\n",
       "      <td>Machine Learning Engineer</td>\n",
       "      <td>$120,000 - $140,000 + Bonus</td>\n",
       "      <td>The Onset</td>\n",
       "      <td>Sydney NSW</td>\n",
       "      <td>Information &amp; Communication Technology</td>\n",
       "      <td>21h ago</td>\n",
       "    </tr>\n",
       "    <tr>\n",
       "      <th>3</th>\n",
       "      <td>We have an opportunity for a Junior Machine Le...</td>\n",
       "      <td>Junior Machine Learning Engineer</td>\n",
       "      <td>NaN</td>\n",
       "      <td>Stockland</td>\n",
       "      <td>Sydney NSW</td>\n",
       "      <td>Information &amp; Communication Technology</td>\n",
       "      <td>6d ago</td>\n",
       "    </tr>\n",
       "    <tr>\n",
       "      <th>4</th>\n",
       "      <td>The UTS Data Science Institute invites applica...</td>\n",
       "      <td>PhD Studentships in Automated and Transparent ...</td>\n",
       "      <td>NaN</td>\n",
       "      <td>University of Technology Sydney</td>\n",
       "      <td>Sydney NSW</td>\n",
       "      <td>Education &amp; Training</td>\n",
       "      <td>15h ago</td>\n",
       "    </tr>\n",
       "  </tbody>\n",
       "</table>\n",
       "</div>"
      ],
      "text/plain": [
       "                                         description  \\\n",
       "0  Work with a leading business to continue to bu...   \n",
       "1  Looking for exceptional Machine Learning Engin...   \n",
       "2  Picture this… you, working on software that tr...   \n",
       "3  We have an opportunity for a Junior Machine Le...   \n",
       "4  The UTS Data Science Institute invites applica...   \n",
       "\n",
       "                                               title  \\\n",
       "0                          Machine Learning Engineer   \n",
       "1                          Machine Learning Engineer   \n",
       "2                          Machine Learning Engineer   \n",
       "3                   Junior Machine Learning Engineer   \n",
       "4  PhD Studentships in Automated and Transparent ...   \n",
       "\n",
       "                                        salary  \\\n",
       "0              $150 - $160k + super + benefits   \n",
       "1  $220k - $270k inc. Super (Excluding Equity)   \n",
       "2                  $120,000 - $140,000 + Bonus   \n",
       "3                                          NaN   \n",
       "4                                          NaN   \n",
       "\n",
       "                           company    location  \\\n",
       "0                    TheDriveGroup  Sydney NSW   \n",
       "1                     Charterhouse  Sydney NSW   \n",
       "2                        The Onset  Sydney NSW   \n",
       "3                        Stockland  Sydney NSW   \n",
       "4  University of Technology Sydney  Sydney NSW   \n",
       "\n",
       "                                    class days_before  \n",
       "0  Information & Communication Technology      5d ago  \n",
       "1  Information & Communication Technology      5d ago  \n",
       "2  Information & Communication Technology     21h ago  \n",
       "3  Information & Communication Technology      6d ago  \n",
       "4                    Education & Training     15h ago  "
      ]
     },
     "execution_count": 3,
     "metadata": {},
     "output_type": "execute_result"
    }
   ],
   "source": [
    "df1.head()"
   ]
  },
  {
   "cell_type": "code",
   "execution_count": 4,
   "id": "1602ab20",
   "metadata": {},
   "outputs": [
    {
     "data": {
      "text/plain": [
       "Bluefin Resources Pty Limited                        39\n",
       "Correlate Resources                                  37\n",
       "The Argyle Network                                   28\n",
       "ASIC                                                 26\n",
       "Westpac Group                                        26\n",
       "Pearson Australia                                    26\n",
       "Talent Insights Group Pty Ltd                        24\n",
       "PRA                                                  24\n",
       "SEEK Limited                                         17\n",
       "The Onset                                            15\n",
       "Westbury Partners                                    13\n",
       "TheDriveGroup                                        13\n",
       "Versent Pty Ltd                                      13\n",
       "NewyTechPeople                                       13\n",
       "CatapultBI                                           13\n",
       "Precision Sourcing                                   13\n",
       "SustainAbility Consulting                            13\n",
       "Intelligen Pty Ltd                                   13\n",
       "Charterhouse                                         13\n",
       "Robert Walters                                       13\n",
       "Alloc8                                               13\n",
       "Laing O'Rourke Australia Construction Pty Limited    13\n",
       "AC3 Pty Limited                                      13\n",
       "CPB Contractors Pty Limited                          13\n",
       "Susquehanna Pacific Pty Ltd                          13\n",
       "University of Technology Sydney                      13\n",
       "Stockland                                            13\n",
       "Bet Technology                                       11\n",
       "Zurich Financial Services Australia                  11\n",
       "Aldi Stores                                           6\n",
       "Big W                                                 5\n",
       "EY                                                    4\n",
       "Name: company, dtype: int64"
      ]
     },
     "execution_count": 4,
     "metadata": {},
     "output_type": "execute_result"
    }
   ],
   "source": [
    "df1.company.value_counts()\n"
   ]
  },
  {
   "cell_type": "code",
   "execution_count": 5,
   "id": "8f28f7ab",
   "metadata": {},
   "outputs": [
    {
     "data": {
      "text/plain": [
       "description      0\n",
       "title            0\n",
       "salary         278\n",
       "company          0\n",
       "location         0\n",
       "class            0\n",
       "days_before      0\n",
       "dtype: int64"
      ]
     },
     "execution_count": 5,
     "metadata": {},
     "output_type": "execute_result"
    }
   ],
   "source": [
    "df1.isnull().sum()"
   ]
  },
  {
   "cell_type": "code",
   "execution_count": 6,
   "id": "43b68d0b",
   "metadata": {},
   "outputs": [
    {
     "data": {
      "text/plain": [
       "(520, 7)"
      ]
     },
     "execution_count": 6,
     "metadata": {},
     "output_type": "execute_result"
    }
   ],
   "source": [
    "df1.shape"
   ]
  },
  {
   "cell_type": "code",
   "execution_count": 7,
   "id": "5de3c4b2",
   "metadata": {},
   "outputs": [
    {
     "data": {
      "text/plain": [
       "278"
      ]
     },
     "execution_count": 7,
     "metadata": {},
     "output_type": "execute_result"
    }
   ],
   "source": [
    "df1.salary.isnull().sum()"
   ]
  },
  {
   "cell_type": "code",
   "execution_count": 8,
   "id": "ac8b8511",
   "metadata": {
    "scrolled": false
   },
   "outputs": [
    {
     "data": {
      "text/plain": [
       "Data Scientist                                                    87\n",
       "Machine Learning Engineer                                         78\n",
       "Data Engineer                                                     62\n",
       "Senior Data Engineer                                              52\n",
       "Principal Data Engineer - Data & Analytics                        15\n",
       "Junior Machine Learning Engineer                                  13\n",
       "Principle Data Scientist                                          13\n",
       "Engineer- Big Data Technologies                                   13\n",
       "Data Scientist (Knowledge Graph)                                  13\n",
       "Data Engineer - Python (High Frequency Trading)                   13\n",
       "Data Engineers - Big Data                                         13\n",
       "Senior Data Scientist - Macquarie Park/WfH                        13\n",
       "Senior AI Systems Engineer                                        13\n",
       "Machine Learning Lead                                             13\n",
       "Senior Data Scientist                                             13\n",
       "AI Engineer                                                       13\n",
       "Senior Data Engineer/Machine Learning                             13\n",
       "Machine Learning Data Scientist                                   13\n",
       "PhD Studentships in Automated and Transparent Machine Learning    13\n",
       "Analytics Engineer                                                13\n",
       "Data Scientist - Life and Investments                             11\n",
       "Principal Data Consultant                                         11\n",
       "Data Engineer | BIG W                                              5\n",
       "Data Scientist (AIPS - Recs)                                       4\n",
       "Name: title, dtype: int64"
      ]
     },
     "execution_count": 8,
     "metadata": {},
     "output_type": "execute_result"
    }
   ],
   "source": [
    "title_counts=df1.title.value_counts()\n",
    "title_counts"
   ]
  },
  {
   "cell_type": "code",
   "execution_count": 9,
   "id": "a1b6505e",
   "metadata": {},
   "outputs": [
    {
     "data": {
      "text/plain": [
       "<AxesSubplot:>"
      ]
     },
     "execution_count": 9,
     "metadata": {},
     "output_type": "execute_result"
    },
    {
     "data": {
      "image/png": "[encoded data removed]",
      "text/plain": [
       "<Figure size 432x288 with 1 Axes>"
      ]
     },
     "metadata": {
      "needs_background": "light"
     },
     "output_type": "display_data"
    }
   ],
   "source": [
    "title_counts.plot(kind='bar')"
   ]
  },
  {
   "cell_type": "code",
   "execution_count": 10,
   "id": "c1c71847",
   "metadata": {},
   "outputs": [
    {
     "data": {
      "text/plain": [
       "description    object\n",
       "title          object\n",
       "salary         object\n",
       "company        object\n",
       "location       object\n",
       "class          object\n",
       "days_before    object\n",
       "dtype: object"
      ]
     },
     "execution_count": 10,
     "metadata": {},
     "output_type": "execute_result"
    }
   ],
   "source": [
    "df1.dtypes"
   ]
  },
  {
   "cell_type": "markdown",
   "id": "45460422",
   "metadata": {},
   "source": [
    "##salary cleaning"
   ]
  },
  {
   "cell_type": "code",
   "execution_count": 11,
   "id": "fc988b84",
   "metadata": {},
   "outputs": [],
   "source": [
    "df1['salary']=df1['salary'].fillna(method='ffill')"
   ]
  },
  {
   "cell_type": "code",
   "execution_count": 12,
   "id": "271d446b",
   "metadata": {},
   "outputs": [
    {
     "data": {
      "text/plain": [
       "0                  $150 - $160k + super + benefits\n",
       "1      $220k - $270k inc. Super (Excluding Equity)\n",
       "2                      $120,000 - $140,000 + Bonus\n",
       "3                      $120,000 - $140,000 + Bonus\n",
       "4                      $120,000 - $140,000 + Bonus\n",
       "                          ...                     \n",
       "515     $180,000k - $200,000k p.a. + Super + Bonus\n",
       "516     $180,000k - $200,000k p.a. + Super + Bonus\n",
       "517              $170,000 - $186,000 (Incl. Super)\n",
       "518              $170,000 - $186,000 (Incl. Super)\n",
       "519              $170,000 - $186,000 (Incl. Super)\n",
       "Name: salary, Length: 520, dtype: object"
      ]
     },
     "execution_count": 12,
     "metadata": {},
     "output_type": "execute_result"
    }
   ],
   "source": [
    "df1['salary']"
   ]
  },
  {
   "cell_type": "code",
   "execution_count": 13,
   "id": "15a06ece",
   "metadata": {},
   "outputs": [],
   "source": [
    "df1['sal']=df1.astype({'salary': 'str'}).dtypes"
   ]
  },
  {
   "cell_type": "code",
   "execution_count": 14,
   "id": "60e59a99",
   "metadata": {},
   "outputs": [],
   "source": [
    "df1['sal1']=df1['salary'].astype(str)\n"
   ]
  },
  {
   "cell_type": "code",
   "execution_count": 15,
   "id": "99a65a69",
   "metadata": {},
   "outputs": [],
   "source": [
    "df1['sal1']=df1['sal1'].apply(lambda x: x.replace('k','').replace('$',''))"
   ]
  },
  {
   "cell_type": "code",
   "execution_count": 16,
   "id": "1d148cb6",
   "metadata": {},
   "outputs": [
    {
     "data": {
      "text/plain": [
       "0                 150 - 160 + super + benefits\n",
       "1      220 - 270 inc. Super (Excluding Equity)\n",
       "2                    120,000 - 140,000 + Bonus\n",
       "3                    120,000 - 140,000 + Bonus\n",
       "4                    120,000 - 140,000 + Bonus\n",
       "                        ...                   \n",
       "515     180,000 - 200,000 p.a. + Super + Bonus\n",
       "516     180,000 - 200,000 p.a. + Super + Bonus\n",
       "517            170,000 - 186,000 (Incl. Super)\n",
       "518            170,000 - 186,000 (Incl. Super)\n",
       "519            170,000 - 186,000 (Incl. Super)\n",
       "Name: sal1, Length: 520, dtype: object"
      ]
     },
     "execution_count": 16,
     "metadata": {},
     "output_type": "execute_result"
    }
   ],
   "source": [
    "df1['sal1']"
   ]
  },
  {
   "cell_type": "code",
   "execution_count": 17,
   "id": "28578458",
   "metadata": {},
   "outputs": [],
   "source": [
    "df1['Salary Estimate']=(df1['sal1'].apply(lambda x:x.split('+')))  \n",
    "df1['Salary Estimate']=(df1['sal1'].apply(lambda x:x.strip('$')))"
   ]
  },
  {
   "cell_type": "code",
   "execution_count": 18,
   "id": "52d59e9d",
   "metadata": {},
   "outputs": [],
   "source": [
    "df1['Salary Estimate']=(df1['sal1'].apply(lambda x:x.strip('$')))"
   ]
  },
  {
   "cell_type": "code",
   "execution_count": null,
   "id": "56698a6c",
   "metadata": {},
   "outputs": [],
   "source": []
  },
  {
   "cell_type": "code",
   "execution_count": 19,
   "id": "5c5e3ee2",
   "metadata": {},
   "outputs": [
    {
     "data": {
      "text/plain": [
       "0                 150 - 160 + super + benefits\n",
       "1      220 - 270 inc. Super (Excluding Equity)\n",
       "2                    120,000 - 140,000 + Bonus\n",
       "3                    120,000 - 140,000 + Bonus\n",
       "4                    120,000 - 140,000 + Bonus\n",
       "                        ...                   \n",
       "515     180,000 - 200,000 p.a. + Super + Bonus\n",
       "516     180,000 - 200,000 p.a. + Super + Bonus\n",
       "517            170,000 - 186,000 (Incl. Super)\n",
       "518            170,000 - 186,000 (Incl. Super)\n",
       "519            170,000 - 186,000 (Incl. Super)\n",
       "Name: Salary Estimate, Length: 520, dtype: object"
      ]
     },
     "execution_count": 19,
     "metadata": {},
     "output_type": "execute_result"
    }
   ],
   "source": [
    "df1['Salary Estimate']"
   ]
  },
  {
   "cell_type": "code",
   "execution_count": null,
   "id": "3f36ff0d",
   "metadata": {},
   "outputs": [],
   "source": []
  },
  {
   "cell_type": "code",
   "execution_count": 20,
   "id": "fcbfa8a2",
   "metadata": {},
   "outputs": [
    {
     "data": {
      "text/plain": [
       "0                 150 - 160 + super + benefits\n",
       "1      220 - 270 inc. Super (Excluding Equity)\n",
       "2                    120,000 - 140,000 + Bonus\n",
       "3                    120,000 - 140,000 + Bonus\n",
       "4                    120,000 - 140,000 + Bonus\n",
       "                        ...                   \n",
       "515     180,000 - 200,000 p.a. + Super + Bonus\n",
       "516     180,000 - 200,000 p.a. + Super + Bonus\n",
       "517            170,000 - 186,000 (Incl. Super)\n",
       "518            170,000 - 186,000 (Incl. Super)\n",
       "519            170,000 - 186,000 (Incl. Super)\n",
       "Name: sal1, Length: 520, dtype: object"
      ]
     },
     "execution_count": 20,
     "metadata": {},
     "output_type": "execute_result"
    }
   ],
   "source": [
    "df1['sal1']"
   ]
  },
  {
   "cell_type": "code",
   "execution_count": 21,
   "id": "844474bf",
   "metadata": {},
   "outputs": [],
   "source": [
    " df1['Salary-Estimate1']=df1['sal1'].apply(lambda x:x.split(' '))"
   ]
  },
  {
   "cell_type": "code",
   "execution_count": null,
   "id": "aea40199",
   "metadata": {},
   "outputs": [],
   "source": []
  },
  {
   "cell_type": "code",
   "execution_count": 22,
   "id": "5ba31714",
   "metadata": {},
   "outputs": [
    {
     "data": {
      "text/plain": [
       "0                 [150, -, 160, +, super, +, benefits]\n",
       "1      [220, -, 270, inc., Super, (Excluding, Equity)]\n",
       "2                      [120,000, -, 140,000, +, Bonus]\n",
       "3                      [120,000, -, 140,000, +, Bonus]\n",
       "4                      [120,000, -, 140,000, +, Bonus]\n",
       "                            ...                       \n",
       "515    [180,000, -, 200,000, p.a., +, Super, +, Bonus]\n",
       "516    [180,000, -, 200,000, p.a., +, Super, +, Bonus]\n",
       "517              [170,000, -, 186,000, (Incl., Super)]\n",
       "518              [170,000, -, 186,000, (Incl., Super)]\n",
       "519              [170,000, -, 186,000, (Incl., Super)]\n",
       "Name: Salary-Estimate1, Length: 520, dtype: object"
      ]
     },
     "execution_count": 22,
     "metadata": {},
     "output_type": "execute_result"
    }
   ],
   "source": [
    "df1['Salary-Estimate1']"
   ]
  },
  {
   "cell_type": "code",
   "execution_count": 23,
   "id": "670c5ac0",
   "metadata": {},
   "outputs": [],
   "source": [
    "df1['salary_estimate']=df1['sal1'].apply(lambda x:x.split('+')[0])   "
   ]
  },
  {
   "cell_type": "code",
   "execution_count": 24,
   "id": "d853f528",
   "metadata": {},
   "outputs": [
    {
     "data": {
      "text/plain": [
       "0                                   150 - 160 \n",
       "1      220 - 270 inc. Super (Excluding Equity)\n",
       "2                           120,000 - 140,000 \n",
       "3                           120,000 - 140,000 \n",
       "4                           120,000 - 140,000 \n",
       "                        ...                   \n",
       "515                    180,000 - 200,000 p.a. \n",
       "516                    180,000 - 200,000 p.a. \n",
       "517            170,000 - 186,000 (Incl. Super)\n",
       "518            170,000 - 186,000 (Incl. Super)\n",
       "519            170,000 - 186,000 (Incl. Super)\n",
       "Name: salary_estimate, Length: 520, dtype: object"
      ]
     },
     "execution_count": 24,
     "metadata": {},
     "output_type": "execute_result"
    }
   ],
   "source": [
    "df1['salary_estimate']"
   ]
  },
  {
   "cell_type": "code",
   "execution_count": 25,
   "id": "85143f89",
   "metadata": {},
   "outputs": [
    {
     "data": {
      "text/plain": [
       "'220'"
      ]
     },
     "execution_count": 25,
     "metadata": {},
     "output_type": "execute_result"
    }
   ],
   "source": [
    "(df1['Salary-Estimate1'][:][1][0])"
   ]
  },
  {
   "cell_type": "code",
   "execution_count": 26,
   "id": "3407ca41",
   "metadata": {},
   "outputs": [
    {
     "data": {
      "text/plain": [
       "0                                 150 - 160 \n",
       "1    220 - 270 inc. Super (Excluding Equity)\n",
       "2                         120,000 - 140,000 \n",
       "Name: salary_estimate, dtype: object"
      ]
     },
     "execution_count": 26,
     "metadata": {},
     "output_type": "execute_result"
    }
   ],
   "source": [
    "df1['salary_estimate'][:][0:3]"
   ]
  },
  {
   "cell_type": "code",
   "execution_count": 27,
   "id": "15fe8d39",
   "metadata": {},
   "outputs": [],
   "source": [
    "df1['salary_min']=(df1['Salary-Estimate1'].apply(lambda x:x[:][0]))"
   ]
  },
  {
   "cell_type": "code",
   "execution_count": 28,
   "id": "015fa9d0",
   "metadata": {},
   "outputs": [
    {
     "data": {
      "text/plain": [
       "0          150\n",
       "1          220\n",
       "2      120,000\n",
       "3      120,000\n",
       "4      120,000\n",
       "        ...   \n",
       "515    180,000\n",
       "516    180,000\n",
       "517    170,000\n",
       "518    170,000\n",
       "519    170,000\n",
       "Name: salary_min, Length: 520, dtype: object"
      ]
     },
     "execution_count": 28,
     "metadata": {},
     "output_type": "execute_result"
    }
   ],
   "source": [
    "df1['salary_min']"
   ]
  },
  {
   "cell_type": "code",
   "execution_count": 29,
   "id": "46f7bfeb",
   "metadata": {},
   "outputs": [],
   "source": [
    "df1['min_salary'] =  df1['salary_min']"
   ]
  },
  {
   "cell_type": "code",
   "execution_count": 30,
   "id": "9de94316",
   "metadata": {},
   "outputs": [],
   "source": [
    "df1['Salary-max']=(df1['Salary-Estimate1'].apply(lambda x:x[:][2:3]))"
   ]
  },
  {
   "cell_type": "code",
   "execution_count": 31,
   "id": "1557b2f7",
   "metadata": {},
   "outputs": [
    {
     "data": {
      "text/plain": [
       "0          [160]\n",
       "1          [270]\n",
       "2      [140,000]\n",
       "3      [140,000]\n",
       "4      [140,000]\n",
       "         ...    \n",
       "515    [200,000]\n",
       "516    [200,000]\n",
       "517    [186,000]\n",
       "518    [186,000]\n",
       "519    [186,000]\n",
       "Name: Salary-max, Length: 520, dtype: object"
      ]
     },
     "execution_count": 31,
     "metadata": {},
     "output_type": "execute_result"
    }
   ],
   "source": [
    "df1['Salary-max']"
   ]
  },
  {
   "cell_type": "code",
   "execution_count": 32,
   "id": "a9c94e7b",
   "metadata": {},
   "outputs": [],
   "source": [
    "df1['value1'] =  df1['Salary-max'].str[0]"
   ]
  },
  {
   "cell_type": "code",
   "execution_count": 33,
   "id": "3062ad1e",
   "metadata": {
    "scrolled": true
   },
   "outputs": [
    {
     "data": {
      "text/html": [
       "<div>\n",
       "<style scoped>\n",
       "    .dataframe tbody tr th:only-of-type {\n",
       "        vertical-align: middle;\n",
       "    }\n",
       "\n",
       "    .dataframe tbody tr th {\n",
       "        vertical-align: top;\n",
       "    }\n",
       "\n",
       "    .dataframe thead th {\n",
       "        text-align: right;\n",
       "    }\n",
       "</style>\n",
       "<table border=\"1\" class=\"dataframe\">\n",
       "  <thead>\n",
       "    <tr style=\"text-align: right;\">\n",
       "      <th></th>\n",
       "      <th>description</th>\n",
       "      <th>title</th>\n",
       "      <th>salary</th>\n",
       "      <th>company</th>\n",
       "      <th>location</th>\n",
       "      <th>class</th>\n",
       "      <th>days_before</th>\n",
       "      <th>sal</th>\n",
       "      <th>sal1</th>\n",
       "      <th>Salary Estimate</th>\n",
       "      <th>Salary-Estimate1</th>\n",
       "      <th>salary_estimate</th>\n",
       "      <th>salary_min</th>\n",
       "      <th>min_salary</th>\n",
       "      <th>Salary-max</th>\n",
       "      <th>value1</th>\n",
       "    </tr>\n",
       "  </thead>\n",
       "  <tbody>\n",
       "    <tr>\n",
       "      <th>0</th>\n",
       "      <td>Work with a leading business to continue to bu...</td>\n",
       "      <td>Machine Learning Engineer</td>\n",
       "      <td>$150 - $160k + super + benefits</td>\n",
       "      <td>TheDriveGroup</td>\n",
       "      <td>Sydney NSW</td>\n",
       "      <td>Information &amp; Communication Technology</td>\n",
       "      <td>5d ago</td>\n",
       "      <td>NaN</td>\n",
       "      <td>150 - 160 + super + benefits</td>\n",
       "      <td>150 - 160 + super + benefits</td>\n",
       "      <td>[150, -, 160, +, super, +, benefits]</td>\n",
       "      <td>150 - 160</td>\n",
       "      <td>150</td>\n",
       "      <td>150</td>\n",
       "      <td>[160]</td>\n",
       "      <td>160</td>\n",
       "    </tr>\n",
       "    <tr>\n",
       "      <th>1</th>\n",
       "      <td>Looking for exceptional Machine Learning Engin...</td>\n",
       "      <td>Machine Learning Engineer</td>\n",
       "      <td>$220k - $270k inc. Super (Excluding Equity)</td>\n",
       "      <td>Charterhouse</td>\n",
       "      <td>Sydney NSW</td>\n",
       "      <td>Information &amp; Communication Technology</td>\n",
       "      <td>5d ago</td>\n",
       "      <td>NaN</td>\n",
       "      <td>220 - 270 inc. Super (Excluding Equity)</td>\n",
       "      <td>220 - 270 inc. Super (Excluding Equity)</td>\n",
       "      <td>[220, -, 270, inc., Super, (Excluding, Equity)]</td>\n",
       "      <td>220 - 270 inc. Super (Excluding Equity)</td>\n",
       "      <td>220</td>\n",
       "      <td>220</td>\n",
       "      <td>[270]</td>\n",
       "      <td>270</td>\n",
       "    </tr>\n",
       "    <tr>\n",
       "      <th>2</th>\n",
       "      <td>Picture this… you, working on software that tr...</td>\n",
       "      <td>Machine Learning Engineer</td>\n",
       "      <td>$120,000 - $140,000 + Bonus</td>\n",
       "      <td>The Onset</td>\n",
       "      <td>Sydney NSW</td>\n",
       "      <td>Information &amp; Communication Technology</td>\n",
       "      <td>21h ago</td>\n",
       "      <td>NaN</td>\n",
       "      <td>120,000 - 140,000 + Bonus</td>\n",
       "      <td>120,000 - 140,000 + Bonus</td>\n",
       "      <td>[120,000, -, 140,000, +, Bonus]</td>\n",
       "      <td>120,000 - 140,000</td>\n",
       "      <td>120,000</td>\n",
       "      <td>120,000</td>\n",
       "      <td>[140,000]</td>\n",
       "      <td>140,000</td>\n",
       "    </tr>\n",
       "    <tr>\n",
       "      <th>3</th>\n",
       "      <td>We have an opportunity for a Junior Machine Le...</td>\n",
       "      <td>Junior Machine Learning Engineer</td>\n",
       "      <td>$120,000 - $140,000 + Bonus</td>\n",
       "      <td>Stockland</td>\n",
       "      <td>Sydney NSW</td>\n",
       "      <td>Information &amp; Communication Technology</td>\n",
       "      <td>6d ago</td>\n",
       "      <td>NaN</td>\n",
       "      <td>120,000 - 140,000 + Bonus</td>\n",
       "      <td>120,000 - 140,000 + Bonus</td>\n",
       "      <td>[120,000, -, 140,000, +, Bonus]</td>\n",
       "      <td>120,000 - 140,000</td>\n",
       "      <td>120,000</td>\n",
       "      <td>120,000</td>\n",
       "      <td>[140,000]</td>\n",
       "      <td>140,000</td>\n",
       "    </tr>\n",
       "    <tr>\n",
       "      <th>4</th>\n",
       "      <td>The UTS Data Science Institute invites applica...</td>\n",
       "      <td>PhD Studentships in Automated and Transparent ...</td>\n",
       "      <td>$120,000 - $140,000 + Bonus</td>\n",
       "      <td>University of Technology Sydney</td>\n",
       "      <td>Sydney NSW</td>\n",
       "      <td>Education &amp; Training</td>\n",
       "      <td>15h ago</td>\n",
       "      <td>NaN</td>\n",
       "      <td>120,000 - 140,000 + Bonus</td>\n",
       "      <td>120,000 - 140,000 + Bonus</td>\n",
       "      <td>[120,000, -, 140,000, +, Bonus]</td>\n",
       "      <td>120,000 - 140,000</td>\n",
       "      <td>120,000</td>\n",
       "      <td>120,000</td>\n",
       "      <td>[140,000]</td>\n",
       "      <td>140,000</td>\n",
       "    </tr>\n",
       "  </tbody>\n",
       "</table>\n",
       "</div>"
      ],
      "text/plain": [
       "                                         description  \\\n",
       "0  Work with a leading business to continue to bu...   \n",
       "1  Looking for exceptional Machine Learning Engin...   \n",
       "2  Picture this… you, working on software that tr...   \n",
       "3  We have an opportunity for a Junior Machine Le...   \n",
       "4  The UTS Data Science Institute invites applica...   \n",
       "\n",
       "                                               title  \\\n",
       "0                          Machine Learning Engineer   \n",
       "1                          Machine Learning Engineer   \n",
       "2                          Machine Learning Engineer   \n",
       "3                   Junior Machine Learning Engineer   \n",
       "4  PhD Studentships in Automated and Transparent ...   \n",
       "\n",
       "                                        salary  \\\n",
       "0              $150 - $160k + super + benefits   \n",
       "1  $220k - $270k inc. Super (Excluding Equity)   \n",
       "2                  $120,000 - $140,000 + Bonus   \n",
       "3                  $120,000 - $140,000 + Bonus   \n",
       "4                  $120,000 - $140,000 + Bonus   \n",
       "\n",
       "                           company    location  \\\n",
       "0                    TheDriveGroup  Sydney NSW   \n",
       "1                     Charterhouse  Sydney NSW   \n",
       "2                        The Onset  Sydney NSW   \n",
       "3                        Stockland  Sydney NSW   \n",
       "4  University of Technology Sydney  Sydney NSW   \n",
       "\n",
       "                                    class days_before  sal  \\\n",
       "0  Information & Communication Technology      5d ago  NaN   \n",
       "1  Information & Communication Technology      5d ago  NaN   \n",
       "2  Information & Communication Technology     21h ago  NaN   \n",
       "3  Information & Communication Technology      6d ago  NaN   \n",
       "4                    Education & Training     15h ago  NaN   \n",
       "\n",
       "                                      sal1  \\\n",
       "0             150 - 160 + super + benefits   \n",
       "1  220 - 270 inc. Super (Excluding Equity)   \n",
       "2                120,000 - 140,000 + Bonus   \n",
       "3                120,000 - 140,000 + Bonus   \n",
       "4                120,000 - 140,000 + Bonus   \n",
       "\n",
       "                           Salary Estimate  \\\n",
       "0             150 - 160 + super + benefits   \n",
       "1  220 - 270 inc. Super (Excluding Equity)   \n",
       "2                120,000 - 140,000 + Bonus   \n",
       "3                120,000 - 140,000 + Bonus   \n",
       "4                120,000 - 140,000 + Bonus   \n",
       "\n",
       "                                  Salary-Estimate1  \\\n",
       "0             [150, -, 160, +, super, +, benefits]   \n",
       "1  [220, -, 270, inc., Super, (Excluding, Equity)]   \n",
       "2                  [120,000, -, 140,000, +, Bonus]   \n",
       "3                  [120,000, -, 140,000, +, Bonus]   \n",
       "4                  [120,000, -, 140,000, +, Bonus]   \n",
       "\n",
       "                           salary_estimate salary_min min_salary Salary-max  \\\n",
       "0                               150 - 160         150        150      [160]   \n",
       "1  220 - 270 inc. Super (Excluding Equity)        220        220      [270]   \n",
       "2                       120,000 - 140,000     120,000    120,000  [140,000]   \n",
       "3                       120,000 - 140,000     120,000    120,000  [140,000]   \n",
       "4                       120,000 - 140,000     120,000    120,000  [140,000]   \n",
       "\n",
       "    value1  \n",
       "0      160  \n",
       "1      270  \n",
       "2  140,000  \n",
       "3  140,000  \n",
       "4  140,000  "
      ]
     },
     "execution_count": 33,
     "metadata": {},
     "output_type": "execute_result"
    }
   ],
   "source": [
    "df1.head()"
   ]
  },
  {
   "cell_type": "code",
   "execution_count": 34,
   "id": "b7e9687b",
   "metadata": {},
   "outputs": [],
   "source": [
    "df1=df1.drop(['Salary Estimate', 'Salary-Estimate1','sal1','sal','salary_estimate','salary_min','Salary-max'], axis=1)"
   ]
  },
  {
   "cell_type": "code",
   "execution_count": 35,
   "id": "9b5aac02",
   "metadata": {},
   "outputs": [
    {
     "data": {
      "text/plain": [
       "description    object\n",
       "title          object\n",
       "salary         object\n",
       "company        object\n",
       "location       object\n",
       "class          object\n",
       "days_before    object\n",
       "min_salary     object\n",
       "value1         object\n",
       "dtype: object"
      ]
     },
     "execution_count": 35,
     "metadata": {},
     "output_type": "execute_result"
    }
   ],
   "source": [
    "df1.dtypes"
   ]
  },
  {
   "cell_type": "code",
   "execution_count": 36,
   "id": "a5dd5dca",
   "metadata": {},
   "outputs": [],
   "source": [
    "\n",
    "\n",
    "df1['min_salary']=df1['min_salary'].apply(lambda x:x.split(',')[0])\n",
    "df1['value2']=df1['value1'].astype(str).apply(lambda x:x.split(',')[0])"
   ]
  },
  {
   "cell_type": "code",
   "execution_count": 37,
   "id": "ea8d38ef",
   "metadata": {},
   "outputs": [],
   "source": [
    "df1['value2']=df1['value1'].astype(str).apply(lambda x:x.split(',')[0])"
   ]
  },
  {
   "cell_type": "code",
   "execution_count": 38,
   "id": "5ec0ea7c",
   "metadata": {},
   "outputs": [
    {
     "data": {
      "text/html": [
       "<div>\n",
       "<style scoped>\n",
       "    .dataframe tbody tr th:only-of-type {\n",
       "        vertical-align: middle;\n",
       "    }\n",
       "\n",
       "    .dataframe tbody tr th {\n",
       "        vertical-align: top;\n",
       "    }\n",
       "\n",
       "    .dataframe thead th {\n",
       "        text-align: right;\n",
       "    }\n",
       "</style>\n",
       "<table border=\"1\" class=\"dataframe\">\n",
       "  <thead>\n",
       "    <tr style=\"text-align: right;\">\n",
       "      <th></th>\n",
       "      <th>description</th>\n",
       "      <th>title</th>\n",
       "      <th>salary</th>\n",
       "      <th>company</th>\n",
       "      <th>location</th>\n",
       "      <th>class</th>\n",
       "      <th>days_before</th>\n",
       "      <th>min_salary</th>\n",
       "      <th>value1</th>\n",
       "      <th>value2</th>\n",
       "    </tr>\n",
       "  </thead>\n",
       "  <tbody>\n",
       "    <tr>\n",
       "      <th>0</th>\n",
       "      <td>Work with a leading business to continue to bu...</td>\n",
       "      <td>Machine Learning Engineer</td>\n",
       "      <td>$150 - $160k + super + benefits</td>\n",
       "      <td>TheDriveGroup</td>\n",
       "      <td>Sydney NSW</td>\n",
       "      <td>Information &amp; Communication Technology</td>\n",
       "      <td>5d ago</td>\n",
       "      <td>150</td>\n",
       "      <td>160</td>\n",
       "      <td>160</td>\n",
       "    </tr>\n",
       "    <tr>\n",
       "      <th>1</th>\n",
       "      <td>Looking for exceptional Machine Learning Engin...</td>\n",
       "      <td>Machine Learning Engineer</td>\n",
       "      <td>$220k - $270k inc. Super (Excluding Equity)</td>\n",
       "      <td>Charterhouse</td>\n",
       "      <td>Sydney NSW</td>\n",
       "      <td>Information &amp; Communication Technology</td>\n",
       "      <td>5d ago</td>\n",
       "      <td>220</td>\n",
       "      <td>270</td>\n",
       "      <td>270</td>\n",
       "    </tr>\n",
       "    <tr>\n",
       "      <th>2</th>\n",
       "      <td>Picture this… you, working on software that tr...</td>\n",
       "      <td>Machine Learning Engineer</td>\n",
       "      <td>$120,000 - $140,000 + Bonus</td>\n",
       "      <td>The Onset</td>\n",
       "      <td>Sydney NSW</td>\n",
       "      <td>Information &amp; Communication Technology</td>\n",
       "      <td>21h ago</td>\n",
       "      <td>120</td>\n",
       "      <td>140,000</td>\n",
       "      <td>140</td>\n",
       "    </tr>\n",
       "    <tr>\n",
       "      <th>3</th>\n",
       "      <td>We have an opportunity for a Junior Machine Le...</td>\n",
       "      <td>Junior Machine Learning Engineer</td>\n",
       "      <td>$120,000 - $140,000 + Bonus</td>\n",
       "      <td>Stockland</td>\n",
       "      <td>Sydney NSW</td>\n",
       "      <td>Information &amp; Communication Technology</td>\n",
       "      <td>6d ago</td>\n",
       "      <td>120</td>\n",
       "      <td>140,000</td>\n",
       "      <td>140</td>\n",
       "    </tr>\n",
       "    <tr>\n",
       "      <th>4</th>\n",
       "      <td>The UTS Data Science Institute invites applica...</td>\n",
       "      <td>PhD Studentships in Automated and Transparent ...</td>\n",
       "      <td>$120,000 - $140,000 + Bonus</td>\n",
       "      <td>University of Technology Sydney</td>\n",
       "      <td>Sydney NSW</td>\n",
       "      <td>Education &amp; Training</td>\n",
       "      <td>15h ago</td>\n",
       "      <td>120</td>\n",
       "      <td>140,000</td>\n",
       "      <td>140</td>\n",
       "    </tr>\n",
       "  </tbody>\n",
       "</table>\n",
       "</div>"
      ],
      "text/plain": [
       "                                         description  \\\n",
       "0  Work with a leading business to continue to bu...   \n",
       "1  Looking for exceptional Machine Learning Engin...   \n",
       "2  Picture this… you, working on software that tr...   \n",
       "3  We have an opportunity for a Junior Machine Le...   \n",
       "4  The UTS Data Science Institute invites applica...   \n",
       "\n",
       "                                               title  \\\n",
       "0                          Machine Learning Engineer   \n",
       "1                          Machine Learning Engineer   \n",
       "2                          Machine Learning Engineer   \n",
       "3                   Junior Machine Learning Engineer   \n",
       "4  PhD Studentships in Automated and Transparent ...   \n",
       "\n",
       "                                        salary  \\\n",
       "0              $150 - $160k + super + benefits   \n",
       "1  $220k - $270k inc. Super (Excluding Equity)   \n",
       "2                  $120,000 - $140,000 + Bonus   \n",
       "3                  $120,000 - $140,000 + Bonus   \n",
       "4                  $120,000 - $140,000 + Bonus   \n",
       "\n",
       "                           company    location  \\\n",
       "0                    TheDriveGroup  Sydney NSW   \n",
       "1                     Charterhouse  Sydney NSW   \n",
       "2                        The Onset  Sydney NSW   \n",
       "3                        Stockland  Sydney NSW   \n",
       "4  University of Technology Sydney  Sydney NSW   \n",
       "\n",
       "                                    class days_before min_salary   value1  \\\n",
       "0  Information & Communication Technology      5d ago        150      160   \n",
       "1  Information & Communication Technology      5d ago        220      270   \n",
       "2  Information & Communication Technology     21h ago        120  140,000   \n",
       "3  Information & Communication Technology      6d ago        120  140,000   \n",
       "4                    Education & Training     15h ago        120  140,000   \n",
       "\n",
       "  value2  \n",
       "0    160  \n",
       "1    270  \n",
       "2    140  \n",
       "3    140  \n",
       "4    140  "
      ]
     },
     "execution_count": 38,
     "metadata": {},
     "output_type": "execute_result"
    }
   ],
   "source": [
    "df1.head()"
   ]
  },
  {
   "cell_type": "code",
   "execution_count": 39,
   "id": "d60bfd0e",
   "metadata": {},
   "outputs": [],
   "source": [
    "df1=df1.drop(['value1'],axis=1)"
   ]
  },
  {
   "cell_type": "code",
   "execution_count": 40,
   "id": "63052c8d",
   "metadata": {},
   "outputs": [],
   "source": [
    "df1['min_salary1']=df1['min_salary'].apply(lambda x:x.split('-')[0])"
   ]
  },
  {
   "cell_type": "code",
   "execution_count": 41,
   "id": "84d6c8eb",
   "metadata": {},
   "outputs": [],
   "source": [
    "min_salary1=df1['min_salary1']\n",
    "df1['min_salary1'].replace(to_replace = 'Base',value='103',inplace=True)\n",
    "df1['min_salary1'].replace(to_replace = 'Attractive',value='190',inplace=True)\n",
    "df1['min_salary1'].replace(to_replace = 'Up',value='100',inplace=True)"
   ]
  },
  {
   "cell_type": "code",
   "execution_count": 42,
   "id": "5ac67c72",
   "metadata": {},
   "outputs": [
    {
     "data": {
      "text/plain": [
       "103    96\n",
       "190    81\n",
       "100    73\n",
       "180    72\n",
       "120    57\n",
       "170    39\n",
       "150    26\n",
       "110    25\n",
       "140    25\n",
       "220    13\n",
       "135    13\n",
       "Name: min_salary1, dtype: int64"
      ]
     },
     "execution_count": 42,
     "metadata": {},
     "output_type": "execute_result"
    }
   ],
   "source": [
    "df1['min_salary1'].value_counts()"
   ]
  },
  {
   "cell_type": "code",
   "execution_count": 43,
   "id": "a7d38801",
   "metadata": {},
   "outputs": [
    {
     "data": {
      "text/plain": [
       "Super     110\n",
       "Pacage     48\n",
       "900        45\n",
       "200        45\n",
       "140        44\n",
       "186        39\n",
       "205        33\n",
       "super      31\n",
       "300        27\n",
       "150        25\n",
       "130        15\n",
       "160        13\n",
       "270        13\n",
       "165        13\n",
       "180        13\n",
       "122         6\n",
       "Name: value2, dtype: int64"
      ]
     },
     "execution_count": 43,
     "metadata": {},
     "output_type": "execute_result"
    }
   ],
   "source": [
    "df1['value2'].value_counts()"
   ]
  },
  {
   "cell_type": "code",
   "execution_count": 44,
   "id": "d5a78838",
   "metadata": {},
   "outputs": [
    {
     "data": {
      "text/html": [
       "<div>\n",
       "<style scoped>\n",
       "    .dataframe tbody tr th:only-of-type {\n",
       "        vertical-align: middle;\n",
       "    }\n",
       "\n",
       "    .dataframe tbody tr th {\n",
       "        vertical-align: top;\n",
       "    }\n",
       "\n",
       "    .dataframe thead th {\n",
       "        text-align: right;\n",
       "    }\n",
       "</style>\n",
       "<table border=\"1\" class=\"dataframe\">\n",
       "  <thead>\n",
       "    <tr style=\"text-align: right;\">\n",
       "      <th></th>\n",
       "      <th>description</th>\n",
       "      <th>title</th>\n",
       "      <th>salary</th>\n",
       "      <th>company</th>\n",
       "      <th>location</th>\n",
       "      <th>class</th>\n",
       "      <th>days_before</th>\n",
       "      <th>min_salary</th>\n",
       "      <th>value2</th>\n",
       "      <th>min_salary1</th>\n",
       "    </tr>\n",
       "  </thead>\n",
       "  <tbody>\n",
       "    <tr>\n",
       "      <th>11</th>\n",
       "      <td>#4 Best Place to work in Australia. Large Publ...</td>\n",
       "      <td>Data Engineer</td>\n",
       "      <td>$100,000-$120,000 + Super + 5% Bonus</td>\n",
       "      <td>AC3 Pty Limited</td>\n",
       "      <td>Sydney NSW</td>\n",
       "      <td>Information &amp; Communication Technology</td>\n",
       "      <td>21h ago</td>\n",
       "      <td>100</td>\n",
       "      <td>Super</td>\n",
       "      <td>100</td>\n",
       "    </tr>\n",
       "    <tr>\n",
       "      <th>12</th>\n",
       "      <td>Based in North Sydney. Designing large-scale e...</td>\n",
       "      <td>Senior Data Scientist</td>\n",
       "      <td>$100,000-$120,000 + Super + 5% Bonus</td>\n",
       "      <td>Laing O'Rourke Australia Construction Pty Limited</td>\n",
       "      <td>North Sydney</td>\n",
       "      <td>Information &amp; Communication Technology</td>\n",
       "      <td>20h ago</td>\n",
       "      <td>100</td>\n",
       "      <td>Super</td>\n",
       "      <td>100</td>\n",
       "    </tr>\n",
       "    <tr>\n",
       "      <th>16</th>\n",
       "      <td>CORRELATE RESOURCES : Your trusted Data Analyt...</td>\n",
       "      <td>Data Scientist</td>\n",
       "      <td>$110-$130 + Super + Bonus</td>\n",
       "      <td>Correlate Resources</td>\n",
       "      <td>Sydney NSW</td>\n",
       "      <td>Science &amp; Technology</td>\n",
       "      <td>8d ago</td>\n",
       "      <td>110-130</td>\n",
       "      <td>Super</td>\n",
       "      <td>110</td>\n",
       "    </tr>\n",
       "    <tr>\n",
       "      <th>25</th>\n",
       "      <td>Data Scientist in our Knowledge Graph squad th...</td>\n",
       "      <td>Data Scientist (Knowledge Graph)</td>\n",
       "      <td>Base + Super + Bonus</td>\n",
       "      <td>SEEK Limited</td>\n",
       "      <td>Sydney NSW</td>\n",
       "      <td>Science &amp; Technology</td>\n",
       "      <td>15d ago</td>\n",
       "      <td>Base</td>\n",
       "      <td>Super</td>\n",
       "      <td>103</td>\n",
       "    </tr>\n",
       "    <tr>\n",
       "      <th>26</th>\n",
       "      <td>Engineer- Big Data Technologies Data Platforms...</td>\n",
       "      <td>Engineer- Big Data Technologies</td>\n",
       "      <td>Base + Super + Bonus</td>\n",
       "      <td>Westpac Group</td>\n",
       "      <td>Sydney NSW</td>\n",
       "      <td>Information &amp; Communication Technology</td>\n",
       "      <td>2d ago</td>\n",
       "      <td>Base</td>\n",
       "      <td>Super</td>\n",
       "      <td>103</td>\n",
       "    </tr>\n",
       "    <tr>\n",
       "      <th>...</th>\n",
       "      <td>...</td>\n",
       "      <td>...</td>\n",
       "      <td>...</td>\n",
       "      <td>...</td>\n",
       "      <td>...</td>\n",
       "      <td>...</td>\n",
       "      <td>...</td>\n",
       "      <td>...</td>\n",
       "      <td>...</td>\n",
       "      <td>...</td>\n",
       "    </tr>\n",
       "    <tr>\n",
       "      <th>463</th>\n",
       "      <td>Developing and managing ML/AI systems. Experie...</td>\n",
       "      <td>Senior AI Systems Engineer</td>\n",
       "      <td>$110-$130 + Super + Bonus</td>\n",
       "      <td>Pearson Australia</td>\n",
       "      <td>Sydney NSW</td>\n",
       "      <td>Information &amp; Communication Technology</td>\n",
       "      <td>7d ago</td>\n",
       "      <td>110-130</td>\n",
       "      <td>Super</td>\n",
       "      <td>110</td>\n",
       "    </tr>\n",
       "    <tr>\n",
       "      <th>464</th>\n",
       "      <td>Data Engineer Data Platforms Sydney Based, Per...</td>\n",
       "      <td>Data Engineer</td>\n",
       "      <td>$110-$130 + Super + Bonus</td>\n",
       "      <td>Westpac Group</td>\n",
       "      <td>Sydney NSW</td>\n",
       "      <td>Information &amp; Communication Technology</td>\n",
       "      <td>2d ago</td>\n",
       "      <td>110-130</td>\n",
       "      <td>Super</td>\n",
       "      <td>110</td>\n",
       "    </tr>\n",
       "    <tr>\n",
       "      <th>491</th>\n",
       "      <td>#4 Best Place to work in Australia. Large Publ...</td>\n",
       "      <td>Data Engineer</td>\n",
       "      <td>$100,000-$120,000 + Super + 5% Bonus</td>\n",
       "      <td>AC3 Pty Limited</td>\n",
       "      <td>Sydney NSW</td>\n",
       "      <td>Information &amp; Communication Technology</td>\n",
       "      <td>21h ago</td>\n",
       "      <td>100</td>\n",
       "      <td>Super</td>\n",
       "      <td>100</td>\n",
       "    </tr>\n",
       "    <tr>\n",
       "      <th>492</th>\n",
       "      <td>Based in North Sydney. Designing large-scale e...</td>\n",
       "      <td>Senior Data Scientist</td>\n",
       "      <td>$100,000-$120,000 + Super + 5% Bonus</td>\n",
       "      <td>Laing O'Rourke Australia Construction Pty Limited</td>\n",
       "      <td>North Sydney</td>\n",
       "      <td>Information &amp; Communication Technology</td>\n",
       "      <td>20h ago</td>\n",
       "      <td>100</td>\n",
       "      <td>Super</td>\n",
       "      <td>100</td>\n",
       "    </tr>\n",
       "    <tr>\n",
       "      <th>496</th>\n",
       "      <td>CORRELATE RESOURCES : Your trusted Data Analyt...</td>\n",
       "      <td>Data Scientist</td>\n",
       "      <td>$110-$130 + Super + Bonus</td>\n",
       "      <td>Correlate Resources</td>\n",
       "      <td>Sydney NSW</td>\n",
       "      <td>Science &amp; Technology</td>\n",
       "      <td>8d ago</td>\n",
       "      <td>110-130</td>\n",
       "      <td>Super</td>\n",
       "      <td>110</td>\n",
       "    </tr>\n",
       "  </tbody>\n",
       "</table>\n",
       "<p>110 rows × 10 columns</p>\n",
       "</div>"
      ],
      "text/plain": [
       "                                           description  \\\n",
       "11   #4 Best Place to work in Australia. Large Publ...   \n",
       "12   Based in North Sydney. Designing large-scale e...   \n",
       "16   CORRELATE RESOURCES : Your trusted Data Analyt...   \n",
       "25   Data Scientist in our Knowledge Graph squad th...   \n",
       "26   Engineer- Big Data Technologies Data Platforms...   \n",
       "..                                                 ...   \n",
       "463  Developing and managing ML/AI systems. Experie...   \n",
       "464  Data Engineer Data Platforms Sydney Based, Per...   \n",
       "491  #4 Best Place to work in Australia. Large Publ...   \n",
       "492  Based in North Sydney. Designing large-scale e...   \n",
       "496  CORRELATE RESOURCES : Your trusted Data Analyt...   \n",
       "\n",
       "                                title                                salary  \\\n",
       "11                      Data Engineer  $100,000-$120,000 + Super + 5% Bonus   \n",
       "12              Senior Data Scientist  $100,000-$120,000 + Super + 5% Bonus   \n",
       "16                     Data Scientist             $110-$130 + Super + Bonus   \n",
       "25   Data Scientist (Knowledge Graph)                  Base + Super + Bonus   \n",
       "26    Engineer- Big Data Technologies                  Base + Super + Bonus   \n",
       "..                                ...                                   ...   \n",
       "463        Senior AI Systems Engineer             $110-$130 + Super + Bonus   \n",
       "464                     Data Engineer             $110-$130 + Super + Bonus   \n",
       "491                     Data Engineer  $100,000-$120,000 + Super + 5% Bonus   \n",
       "492             Senior Data Scientist  $100,000-$120,000 + Super + 5% Bonus   \n",
       "496                    Data Scientist             $110-$130 + Super + Bonus   \n",
       "\n",
       "                                               company      location  \\\n",
       "11                                     AC3 Pty Limited    Sydney NSW   \n",
       "12   Laing O'Rourke Australia Construction Pty Limited  North Sydney   \n",
       "16                                 Correlate Resources    Sydney NSW   \n",
       "25                                        SEEK Limited    Sydney NSW   \n",
       "26                                       Westpac Group    Sydney NSW   \n",
       "..                                                 ...           ...   \n",
       "463                                  Pearson Australia    Sydney NSW   \n",
       "464                                      Westpac Group    Sydney NSW   \n",
       "491                                    AC3 Pty Limited    Sydney NSW   \n",
       "492  Laing O'Rourke Australia Construction Pty Limited  North Sydney   \n",
       "496                                Correlate Resources    Sydney NSW   \n",
       "\n",
       "                                      class days_before min_salary value2  \\\n",
       "11   Information & Communication Technology     21h ago        100  Super   \n",
       "12   Information & Communication Technology     20h ago        100  Super   \n",
       "16                     Science & Technology      8d ago    110-130  Super   \n",
       "25                     Science & Technology     15d ago       Base  Super   \n",
       "26   Information & Communication Technology      2d ago       Base  Super   \n",
       "..                                      ...         ...        ...    ...   \n",
       "463  Information & Communication Technology      7d ago    110-130  Super   \n",
       "464  Information & Communication Technology      2d ago    110-130  Super   \n",
       "491  Information & Communication Technology     21h ago        100  Super   \n",
       "492  Information & Communication Technology     20h ago        100  Super   \n",
       "496                    Science & Technology      8d ago    110-130  Super   \n",
       "\n",
       "    min_salary1  \n",
       "11          100  \n",
       "12          100  \n",
       "16          110  \n",
       "25          103  \n",
       "26          103  \n",
       "..          ...  \n",
       "463         110  \n",
       "464         110  \n",
       "491         100  \n",
       "492         100  \n",
       "496         110  \n",
       "\n",
       "[110 rows x 10 columns]"
      ]
     },
     "execution_count": 44,
     "metadata": {},
     "output_type": "execute_result"
    }
   ],
   "source": [
    "df1[df1['value2']=='Super']"
   ]
  },
  {
   "cell_type": "code",
   "execution_count": 45,
   "id": "0a44ebcc",
   "metadata": {},
   "outputs": [
    {
     "data": {
      "text/html": [
       "<div>\n",
       "<style scoped>\n",
       "    .dataframe tbody tr th:only-of-type {\n",
       "        vertical-align: middle;\n",
       "    }\n",
       "\n",
       "    .dataframe tbody tr th {\n",
       "        vertical-align: top;\n",
       "    }\n",
       "\n",
       "    .dataframe thead th {\n",
       "        text-align: right;\n",
       "    }\n",
       "</style>\n",
       "<table border=\"1\" class=\"dataframe\">\n",
       "  <thead>\n",
       "    <tr style=\"text-align: right;\">\n",
       "      <th></th>\n",
       "      <th>description</th>\n",
       "      <th>title</th>\n",
       "      <th>salary</th>\n",
       "      <th>company</th>\n",
       "      <th>location</th>\n",
       "      <th>class</th>\n",
       "      <th>days_before</th>\n",
       "      <th>min_salary</th>\n",
       "      <th>value2</th>\n",
       "      <th>min_salary1</th>\n",
       "    </tr>\n",
       "  </thead>\n",
       "  <tbody>\n",
       "    <tr>\n",
       "      <th>0</th>\n",
       "      <td>Work with a leading business to continue to bu...</td>\n",
       "      <td>Machine Learning Engineer</td>\n",
       "      <td>$150 - $160k + super + benefits</td>\n",
       "      <td>TheDriveGroup</td>\n",
       "      <td>Sydney NSW</td>\n",
       "      <td>Information &amp; Communication Technology</td>\n",
       "      <td>5d ago</td>\n",
       "      <td>150</td>\n",
       "      <td>160</td>\n",
       "      <td>150</td>\n",
       "    </tr>\n",
       "    <tr>\n",
       "      <th>1</th>\n",
       "      <td>Looking for exceptional Machine Learning Engin...</td>\n",
       "      <td>Machine Learning Engineer</td>\n",
       "      <td>$220k - $270k inc. Super (Excluding Equity)</td>\n",
       "      <td>Charterhouse</td>\n",
       "      <td>Sydney NSW</td>\n",
       "      <td>Information &amp; Communication Technology</td>\n",
       "      <td>5d ago</td>\n",
       "      <td>220</td>\n",
       "      <td>270</td>\n",
       "      <td>220</td>\n",
       "    </tr>\n",
       "    <tr>\n",
       "      <th>2</th>\n",
       "      <td>Picture this… you, working on software that tr...</td>\n",
       "      <td>Machine Learning Engineer</td>\n",
       "      <td>$120,000 - $140,000 + Bonus</td>\n",
       "      <td>The Onset</td>\n",
       "      <td>Sydney NSW</td>\n",
       "      <td>Information &amp; Communication Technology</td>\n",
       "      <td>21h ago</td>\n",
       "      <td>120</td>\n",
       "      <td>140</td>\n",
       "      <td>120</td>\n",
       "    </tr>\n",
       "    <tr>\n",
       "      <th>3</th>\n",
       "      <td>We have an opportunity for a Junior Machine Le...</td>\n",
       "      <td>Junior Machine Learning Engineer</td>\n",
       "      <td>$120,000 - $140,000 + Bonus</td>\n",
       "      <td>Stockland</td>\n",
       "      <td>Sydney NSW</td>\n",
       "      <td>Information &amp; Communication Technology</td>\n",
       "      <td>6d ago</td>\n",
       "      <td>120</td>\n",
       "      <td>140</td>\n",
       "      <td>120</td>\n",
       "    </tr>\n",
       "    <tr>\n",
       "      <th>4</th>\n",
       "      <td>The UTS Data Science Institute invites applica...</td>\n",
       "      <td>PhD Studentships in Automated and Transparent ...</td>\n",
       "      <td>$120,000 - $140,000 + Bonus</td>\n",
       "      <td>University of Technology Sydney</td>\n",
       "      <td>Sydney NSW</td>\n",
       "      <td>Education &amp; Training</td>\n",
       "      <td>15h ago</td>\n",
       "      <td>120</td>\n",
       "      <td>140</td>\n",
       "      <td>120</td>\n",
       "    </tr>\n",
       "  </tbody>\n",
       "</table>\n",
       "</div>"
      ],
      "text/plain": [
       "                                         description  \\\n",
       "0  Work with a leading business to continue to bu...   \n",
       "1  Looking for exceptional Machine Learning Engin...   \n",
       "2  Picture this… you, working on software that tr...   \n",
       "3  We have an opportunity for a Junior Machine Le...   \n",
       "4  The UTS Data Science Institute invites applica...   \n",
       "\n",
       "                                               title  \\\n",
       "0                          Machine Learning Engineer   \n",
       "1                          Machine Learning Engineer   \n",
       "2                          Machine Learning Engineer   \n",
       "3                   Junior Machine Learning Engineer   \n",
       "4  PhD Studentships in Automated and Transparent ...   \n",
       "\n",
       "                                        salary  \\\n",
       "0              $150 - $160k + super + benefits   \n",
       "1  $220k - $270k inc. Super (Excluding Equity)   \n",
       "2                  $120,000 - $140,000 + Bonus   \n",
       "3                  $120,000 - $140,000 + Bonus   \n",
       "4                  $120,000 - $140,000 + Bonus   \n",
       "\n",
       "                           company    location  \\\n",
       "0                    TheDriveGroup  Sydney NSW   \n",
       "1                     Charterhouse  Sydney NSW   \n",
       "2                        The Onset  Sydney NSW   \n",
       "3                        Stockland  Sydney NSW   \n",
       "4  University of Technology Sydney  Sydney NSW   \n",
       "\n",
       "                                    class days_before min_salary value2  \\\n",
       "0  Information & Communication Technology      5d ago        150    160   \n",
       "1  Information & Communication Technology      5d ago        220    270   \n",
       "2  Information & Communication Technology     21h ago        120    140   \n",
       "3  Information & Communication Technology      6d ago        120    140   \n",
       "4                    Education & Training     15h ago        120    140   \n",
       "\n",
       "  min_salary1  \n",
       "0         150  \n",
       "1         220  \n",
       "2         120  \n",
       "3         120  \n",
       "4         120  "
      ]
     },
     "execution_count": 45,
     "metadata": {},
     "output_type": "execute_result"
    }
   ],
   "source": [
    "df1.head()"
   ]
  },
  {
   "cell_type": "code",
   "execution_count": 46,
   "id": "6cb505f2",
   "metadata": {},
   "outputs": [],
   "source": [
    "df1=df1.drop(['salary','min_salary'],axis=1)"
   ]
  },
  {
   "cell_type": "code",
   "execution_count": 47,
   "id": "7f181c8f",
   "metadata": {},
   "outputs": [],
   "source": [
    "df1.rename(columns = {'value2':'max_salary','min_salary1':'min_salary'}, inplace = True)"
   ]
  },
  {
   "cell_type": "code",
   "execution_count": 48,
   "id": "20f91c28",
   "metadata": {},
   "outputs": [],
   "source": [
    "df1['max_salary']=pd.to_numeric(df1['max_salary'], errors='coerce')\n",
    "df1['min_salary']=pd.to_numeric(df1['min_salary'], errors='coerce')\n",
    "df1['max_salary']=df1['max_salary'].fillna(method='bfill')\n",
    "df1['min_salary1']=df1['min_salary'].fillna(method='ffill')"
   ]
  },
  {
   "cell_type": "code",
   "execution_count": 49,
   "id": "3c417c16",
   "metadata": {},
   "outputs": [],
   "source": [
    "df1['min_salary']=pd.to_numeric(df1['min_salary'], errors='coerce')"
   ]
  },
  {
   "cell_type": "code",
   "execution_count": 50,
   "id": "e0697e65",
   "metadata": {},
   "outputs": [],
   "source": [
    "df1['max_salary']=df1['max_salary'].fillna(method='bfill')"
   ]
  },
  {
   "cell_type": "code",
   "execution_count": 51,
   "id": "6d83024b",
   "metadata": {},
   "outputs": [],
   "source": [
    "df1['min_salary1']=df1['min_salary'].fillna(method='ffill')"
   ]
  },
  {
   "cell_type": "code",
   "execution_count": 52,
   "id": "6008bab5",
   "metadata": {},
   "outputs": [
    {
     "data": {
      "text/plain": [
       "300.0    79\n",
       "150.0    76\n",
       "200.0    71\n",
       "205.0    51\n",
       "900.0    45\n",
       "140.0    44\n",
       "160.0    41\n",
       "186.0    39\n",
       "130.0    29\n",
       "270.0    13\n",
       "165.0    13\n",
       "180.0    13\n",
       "122.0     6\n",
       "Name: max_salary, dtype: int64"
      ]
     },
     "execution_count": 52,
     "metadata": {},
     "output_type": "execute_result"
    }
   ],
   "source": [
    "df1['max_salary'].value_counts()\n",
    "#((df1['value2']=='Super')/df1['min_salary1']).mul(100).round(2).astype(str)"
   ]
  },
  {
   "cell_type": "code",
   "execution_count": 53,
   "id": "243a1efb",
   "metadata": {},
   "outputs": [],
   "source": [
    "df1['min_salary']=df1['min_salary'].astype(int)"
   ]
  },
  {
   "cell_type": "code",
   "execution_count": 54,
   "id": "bb119734",
   "metadata": {},
   "outputs": [],
   "source": [
    "df1['avg_salary'] = (df1.min_salary+df1.max_salary)//2"
   ]
  },
  {
   "cell_type": "code",
   "execution_count": 55,
   "id": "6d63acbb",
   "metadata": {},
   "outputs": [
    {
     "data": {
      "text/html": [
       "<div>\n",
       "<style scoped>\n",
       "    .dataframe tbody tr th:only-of-type {\n",
       "        vertical-align: middle;\n",
       "    }\n",
       "\n",
       "    .dataframe tbody tr th {\n",
       "        vertical-align: top;\n",
       "    }\n",
       "\n",
       "    .dataframe thead th {\n",
       "        text-align: right;\n",
       "    }\n",
       "</style>\n",
       "<table border=\"1\" class=\"dataframe\">\n",
       "  <thead>\n",
       "    <tr style=\"text-align: right;\">\n",
       "      <th></th>\n",
       "      <th>description</th>\n",
       "      <th>title</th>\n",
       "      <th>company</th>\n",
       "      <th>location</th>\n",
       "      <th>class</th>\n",
       "      <th>days_before</th>\n",
       "      <th>max_salary</th>\n",
       "      <th>min_salary</th>\n",
       "      <th>min_salary1</th>\n",
       "      <th>avg_salary</th>\n",
       "    </tr>\n",
       "  </thead>\n",
       "  <tbody>\n",
       "    <tr>\n",
       "      <th>0</th>\n",
       "      <td>Work with a leading business to continue to bu...</td>\n",
       "      <td>Machine Learning Engineer</td>\n",
       "      <td>TheDriveGroup</td>\n",
       "      <td>Sydney NSW</td>\n",
       "      <td>Information &amp; Communication Technology</td>\n",
       "      <td>5d ago</td>\n",
       "      <td>160.0</td>\n",
       "      <td>150</td>\n",
       "      <td>150</td>\n",
       "      <td>155.0</td>\n",
       "    </tr>\n",
       "    <tr>\n",
       "      <th>1</th>\n",
       "      <td>Looking for exceptional Machine Learning Engin...</td>\n",
       "      <td>Machine Learning Engineer</td>\n",
       "      <td>Charterhouse</td>\n",
       "      <td>Sydney NSW</td>\n",
       "      <td>Information &amp; Communication Technology</td>\n",
       "      <td>5d ago</td>\n",
       "      <td>270.0</td>\n",
       "      <td>220</td>\n",
       "      <td>220</td>\n",
       "      <td>245.0</td>\n",
       "    </tr>\n",
       "    <tr>\n",
       "      <th>2</th>\n",
       "      <td>Picture this… you, working on software that tr...</td>\n",
       "      <td>Machine Learning Engineer</td>\n",
       "      <td>The Onset</td>\n",
       "      <td>Sydney NSW</td>\n",
       "      <td>Information &amp; Communication Technology</td>\n",
       "      <td>21h ago</td>\n",
       "      <td>140.0</td>\n",
       "      <td>120</td>\n",
       "      <td>120</td>\n",
       "      <td>130.0</td>\n",
       "    </tr>\n",
       "    <tr>\n",
       "      <th>3</th>\n",
       "      <td>We have an opportunity for a Junior Machine Le...</td>\n",
       "      <td>Junior Machine Learning Engineer</td>\n",
       "      <td>Stockland</td>\n",
       "      <td>Sydney NSW</td>\n",
       "      <td>Information &amp; Communication Technology</td>\n",
       "      <td>6d ago</td>\n",
       "      <td>140.0</td>\n",
       "      <td>120</td>\n",
       "      <td>120</td>\n",
       "      <td>130.0</td>\n",
       "    </tr>\n",
       "    <tr>\n",
       "      <th>4</th>\n",
       "      <td>The UTS Data Science Institute invites applica...</td>\n",
       "      <td>PhD Studentships in Automated and Transparent ...</td>\n",
       "      <td>University of Technology Sydney</td>\n",
       "      <td>Sydney NSW</td>\n",
       "      <td>Education &amp; Training</td>\n",
       "      <td>15h ago</td>\n",
       "      <td>140.0</td>\n",
       "      <td>120</td>\n",
       "      <td>120</td>\n",
       "      <td>130.0</td>\n",
       "    </tr>\n",
       "  </tbody>\n",
       "</table>\n",
       "</div>"
      ],
      "text/plain": [
       "                                         description  \\\n",
       "0  Work with a leading business to continue to bu...   \n",
       "1  Looking for exceptional Machine Learning Engin...   \n",
       "2  Picture this… you, working on software that tr...   \n",
       "3  We have an opportunity for a Junior Machine Le...   \n",
       "4  The UTS Data Science Institute invites applica...   \n",
       "\n",
       "                                               title  \\\n",
       "0                          Machine Learning Engineer   \n",
       "1                          Machine Learning Engineer   \n",
       "2                          Machine Learning Engineer   \n",
       "3                   Junior Machine Learning Engineer   \n",
       "4  PhD Studentships in Automated and Transparent ...   \n",
       "\n",
       "                           company    location  \\\n",
       "0                    TheDriveGroup  Sydney NSW   \n",
       "1                     Charterhouse  Sydney NSW   \n",
       "2                        The Onset  Sydney NSW   \n",
       "3                        Stockland  Sydney NSW   \n",
       "4  University of Technology Sydney  Sydney NSW   \n",
       "\n",
       "                                    class days_before  max_salary  min_salary  \\\n",
       "0  Information & Communication Technology      5d ago       160.0         150   \n",
       "1  Information & Communication Technology      5d ago       270.0         220   \n",
       "2  Information & Communication Technology     21h ago       140.0         120   \n",
       "3  Information & Communication Technology      6d ago       140.0         120   \n",
       "4                    Education & Training     15h ago       140.0         120   \n",
       "\n",
       "   min_salary1  avg_salary  \n",
       "0          150       155.0  \n",
       "1          220       245.0  \n",
       "2          120       130.0  \n",
       "3          120       130.0  \n",
       "4          120       130.0  "
      ]
     },
     "execution_count": 55,
     "metadata": {},
     "output_type": "execute_result"
    }
   ],
   "source": [
    "df1.head()"
   ]
  },
  {
   "cell_type": "code",
   "execution_count": 56,
   "id": "de002616",
   "metadata": {},
   "outputs": [
    {
     "data": {
      "text/html": [
       "<div>\n",
       "<style scoped>\n",
       "    .dataframe tbody tr th:only-of-type {\n",
       "        vertical-align: middle;\n",
       "    }\n",
       "\n",
       "    .dataframe tbody tr th {\n",
       "        vertical-align: top;\n",
       "    }\n",
       "\n",
       "    .dataframe thead th {\n",
       "        text-align: right;\n",
       "    }\n",
       "</style>\n",
       "<table border=\"1\" class=\"dataframe\">\n",
       "  <thead>\n",
       "    <tr style=\"text-align: right;\">\n",
       "      <th></th>\n",
       "      <th>description</th>\n",
       "      <th>title</th>\n",
       "      <th>company</th>\n",
       "      <th>location</th>\n",
       "      <th>class</th>\n",
       "      <th>days_before</th>\n",
       "      <th>max_salary</th>\n",
       "      <th>min_salary</th>\n",
       "      <th>min_salary1</th>\n",
       "      <th>avg_salary</th>\n",
       "    </tr>\n",
       "  </thead>\n",
       "  <tbody>\n",
       "    <tr>\n",
       "      <th>515</th>\n",
       "      <td>Work with an ever growing organization who are...</td>\n",
       "      <td>Senior Data Engineer</td>\n",
       "      <td>Precision Sourcing</td>\n",
       "      <td>Sydney NSW</td>\n",
       "      <td>Information &amp; Communication Technology</td>\n",
       "      <td>17h ago</td>\n",
       "      <td>200.0</td>\n",
       "      <td>180</td>\n",
       "      <td>180</td>\n",
       "      <td>190.0</td>\n",
       "    </tr>\n",
       "    <tr>\n",
       "      <th>516</th>\n",
       "      <td>ASIC is seeking a full time Senior Data Engine...</td>\n",
       "      <td>Senior Data Engineer</td>\n",
       "      <td>ASIC</td>\n",
       "      <td>Parliament House</td>\n",
       "      <td>Information &amp; Communication Technology</td>\n",
       "      <td>5d ago</td>\n",
       "      <td>200.0</td>\n",
       "      <td>180</td>\n",
       "      <td>180</td>\n",
       "      <td>190.0</td>\n",
       "    </tr>\n",
       "    <tr>\n",
       "      <th>517</th>\n",
       "      <td>Principal Data Consultant | Permanent Position...</td>\n",
       "      <td>Principal Data Consultant</td>\n",
       "      <td>PRA</td>\n",
       "      <td>Sydney NSW</td>\n",
       "      <td>Information &amp; Communication Technology</td>\n",
       "      <td>15h ago</td>\n",
       "      <td>186.0</td>\n",
       "      <td>170</td>\n",
       "      <td>170</td>\n",
       "      <td>178.0</td>\n",
       "    </tr>\n",
       "    <tr>\n",
       "      <th>518</th>\n",
       "      <td>This is a perfect time for a Data Engineer to ...</td>\n",
       "      <td>Data Engineer</td>\n",
       "      <td>Talent Insights Group Pty Ltd</td>\n",
       "      <td>Sydney NSW</td>\n",
       "      <td>Information &amp; Communication Technology</td>\n",
       "      <td>6d ago</td>\n",
       "      <td>186.0</td>\n",
       "      <td>170</td>\n",
       "      <td>170</td>\n",
       "      <td>178.0</td>\n",
       "    </tr>\n",
       "    <tr>\n",
       "      <th>519</th>\n",
       "      <td>Responsible for designing, building and mainta...</td>\n",
       "      <td>Data Engineer | BIG W</td>\n",
       "      <td>Big W</td>\n",
       "      <td>Bella Vista</td>\n",
       "      <td>Information &amp; Communication Technology</td>\n",
       "      <td>7d ago</td>\n",
       "      <td>186.0</td>\n",
       "      <td>170</td>\n",
       "      <td>170</td>\n",
       "      <td>178.0</td>\n",
       "    </tr>\n",
       "  </tbody>\n",
       "</table>\n",
       "</div>"
      ],
      "text/plain": [
       "                                           description  \\\n",
       "515  Work with an ever growing organization who are...   \n",
       "516  ASIC is seeking a full time Senior Data Engine...   \n",
       "517  Principal Data Consultant | Permanent Position...   \n",
       "518  This is a perfect time for a Data Engineer to ...   \n",
       "519  Responsible for designing, building and mainta...   \n",
       "\n",
       "                         title                        company  \\\n",
       "515       Senior Data Engineer             Precision Sourcing   \n",
       "516       Senior Data Engineer                           ASIC   \n",
       "517  Principal Data Consultant                            PRA   \n",
       "518              Data Engineer  Talent Insights Group Pty Ltd   \n",
       "519      Data Engineer | BIG W                          Big W   \n",
       "\n",
       "             location                                   class days_before  \\\n",
       "515        Sydney NSW  Information & Communication Technology     17h ago   \n",
       "516  Parliament House  Information & Communication Technology      5d ago   \n",
       "517        Sydney NSW  Information & Communication Technology     15h ago   \n",
       "518        Sydney NSW  Information & Communication Technology      6d ago   \n",
       "519       Bella Vista  Information & Communication Technology      7d ago   \n",
       "\n",
       "     max_salary  min_salary  min_salary1  avg_salary  \n",
       "515       200.0         180          180       190.0  \n",
       "516       200.0         180          180       190.0  \n",
       "517       186.0         170          170       178.0  \n",
       "518       186.0         170          170       178.0  \n",
       "519       186.0         170          170       178.0  "
      ]
     },
     "execution_count": 56,
     "metadata": {},
     "output_type": "execute_result"
    }
   ],
   "source": [
    "df1.tail()"
   ]
  },
  {
   "cell_type": "code",
   "execution_count": 57,
   "id": "52900114",
   "metadata": {},
   "outputs": [
    {
     "data": {
      "text/plain": [
       "103    96\n",
       "190    81\n",
       "100    73\n",
       "180    72\n",
       "120    57\n",
       "170    39\n",
       "150    26\n",
       "110    25\n",
       "140    25\n",
       "220    13\n",
       "135    13\n",
       "Name: min_salary, dtype: int64"
      ]
     },
     "execution_count": 57,
     "metadata": {},
     "output_type": "execute_result"
    }
   ],
   "source": [
    "df1['min_salary'].value_counts()"
   ]
  },
  {
   "cell_type": "code",
   "execution_count": 58,
   "id": "234e6bcd",
   "metadata": {},
   "outputs": [
    {
     "data": {
      "text/plain": [
       "300.0    79\n",
       "150.0    76\n",
       "200.0    71\n",
       "205.0    51\n",
       "900.0    45\n",
       "140.0    44\n",
       "160.0    41\n",
       "186.0    39\n",
       "130.0    29\n",
       "270.0    13\n",
       "165.0    13\n",
       "180.0    13\n",
       "122.0     6\n",
       "Name: max_salary, dtype: int64"
      ]
     },
     "execution_count": 58,
     "metadata": {},
     "output_type": "execute_result"
    }
   ],
   "source": [
    "df1['max_salary'].value_counts()"
   ]
  },
  {
   "cell_type": "code",
   "execution_count": 59,
   "id": "940df49e",
   "metadata": {},
   "outputs": [],
   "source": [
    "df1=df1.drop(['min_salary1'],axis=1)"
   ]
  },
  {
   "cell_type": "code",
   "execution_count": 60,
   "id": "14f61054",
   "metadata": {},
   "outputs": [
    {
     "data": {
      "text/html": [
       "<div>\n",
       "<style scoped>\n",
       "    .dataframe tbody tr th:only-of-type {\n",
       "        vertical-align: middle;\n",
       "    }\n",
       "\n",
       "    .dataframe tbody tr th {\n",
       "        vertical-align: top;\n",
       "    }\n",
       "\n",
       "    .dataframe thead th {\n",
       "        text-align: right;\n",
       "    }\n",
       "</style>\n",
       "<table border=\"1\" class=\"dataframe\">\n",
       "  <thead>\n",
       "    <tr style=\"text-align: right;\">\n",
       "      <th></th>\n",
       "      <th>description</th>\n",
       "      <th>title</th>\n",
       "      <th>company</th>\n",
       "      <th>location</th>\n",
       "      <th>class</th>\n",
       "      <th>days_before</th>\n",
       "      <th>max_salary</th>\n",
       "      <th>min_salary</th>\n",
       "      <th>avg_salary</th>\n",
       "    </tr>\n",
       "  </thead>\n",
       "  <tbody>\n",
       "    <tr>\n",
       "      <th>0</th>\n",
       "      <td>Work with a leading business to continue to bu...</td>\n",
       "      <td>Machine Learning Engineer</td>\n",
       "      <td>TheDriveGroup</td>\n",
       "      <td>Sydney NSW</td>\n",
       "      <td>Information &amp; Communication Technology</td>\n",
       "      <td>5d ago</td>\n",
       "      <td>160.0</td>\n",
       "      <td>150</td>\n",
       "      <td>155.0</td>\n",
       "    </tr>\n",
       "    <tr>\n",
       "      <th>1</th>\n",
       "      <td>Looking for exceptional Machine Learning Engin...</td>\n",
       "      <td>Machine Learning Engineer</td>\n",
       "      <td>Charterhouse</td>\n",
       "      <td>Sydney NSW</td>\n",
       "      <td>Information &amp; Communication Technology</td>\n",
       "      <td>5d ago</td>\n",
       "      <td>270.0</td>\n",
       "      <td>220</td>\n",
       "      <td>245.0</td>\n",
       "    </tr>\n",
       "    <tr>\n",
       "      <th>2</th>\n",
       "      <td>Picture this… you, working on software that tr...</td>\n",
       "      <td>Machine Learning Engineer</td>\n",
       "      <td>The Onset</td>\n",
       "      <td>Sydney NSW</td>\n",
       "      <td>Information &amp; Communication Technology</td>\n",
       "      <td>21h ago</td>\n",
       "      <td>140.0</td>\n",
       "      <td>120</td>\n",
       "      <td>130.0</td>\n",
       "    </tr>\n",
       "    <tr>\n",
       "      <th>3</th>\n",
       "      <td>We have an opportunity for a Junior Machine Le...</td>\n",
       "      <td>Junior Machine Learning Engineer</td>\n",
       "      <td>Stockland</td>\n",
       "      <td>Sydney NSW</td>\n",
       "      <td>Information &amp; Communication Technology</td>\n",
       "      <td>6d ago</td>\n",
       "      <td>140.0</td>\n",
       "      <td>120</td>\n",
       "      <td>130.0</td>\n",
       "    </tr>\n",
       "    <tr>\n",
       "      <th>4</th>\n",
       "      <td>The UTS Data Science Institute invites applica...</td>\n",
       "      <td>PhD Studentships in Automated and Transparent ...</td>\n",
       "      <td>University of Technology Sydney</td>\n",
       "      <td>Sydney NSW</td>\n",
       "      <td>Education &amp; Training</td>\n",
       "      <td>15h ago</td>\n",
       "      <td>140.0</td>\n",
       "      <td>120</td>\n",
       "      <td>130.0</td>\n",
       "    </tr>\n",
       "  </tbody>\n",
       "</table>\n",
       "</div>"
      ],
      "text/plain": [
       "                                         description  \\\n",
       "0  Work with a leading business to continue to bu...   \n",
       "1  Looking for exceptional Machine Learning Engin...   \n",
       "2  Picture this… you, working on software that tr...   \n",
       "3  We have an opportunity for a Junior Machine Le...   \n",
       "4  The UTS Data Science Institute invites applica...   \n",
       "\n",
       "                                               title  \\\n",
       "0                          Machine Learning Engineer   \n",
       "1                          Machine Learning Engineer   \n",
       "2                          Machine Learning Engineer   \n",
       "3                   Junior Machine Learning Engineer   \n",
       "4  PhD Studentships in Automated and Transparent ...   \n",
       "\n",
       "                           company    location  \\\n",
       "0                    TheDriveGroup  Sydney NSW   \n",
       "1                     Charterhouse  Sydney NSW   \n",
       "2                        The Onset  Sydney NSW   \n",
       "3                        Stockland  Sydney NSW   \n",
       "4  University of Technology Sydney  Sydney NSW   \n",
       "\n",
       "                                    class days_before  max_salary  min_salary  \\\n",
       "0  Information & Communication Technology      5d ago       160.0         150   \n",
       "1  Information & Communication Technology      5d ago       270.0         220   \n",
       "2  Information & Communication Technology     21h ago       140.0         120   \n",
       "3  Information & Communication Technology      6d ago       140.0         120   \n",
       "4                    Education & Training     15h ago       140.0         120   \n",
       "\n",
       "   avg_salary  \n",
       "0       155.0  \n",
       "1       245.0  \n",
       "2       130.0  \n",
       "3       130.0  \n",
       "4       130.0  "
      ]
     },
     "execution_count": 60,
     "metadata": {},
     "output_type": "execute_result"
    }
   ],
   "source": [
    "df1.head()"
   ]
  },
  {
   "cell_type": "code",
   "execution_count": 61,
   "id": "20649866",
   "metadata": {},
   "outputs": [
    {
     "data": {
      "text/plain": [
       "Data Scientist                                                    87\n",
       "Machine Learning Engineer                                         78\n",
       "Data Engineer                                                     62\n",
       "Senior Data Engineer                                              52\n",
       "Principal Data Engineer - Data & Analytics                        15\n",
       "Junior Machine Learning Engineer                                  13\n",
       "Principle Data Scientist                                          13\n",
       "Engineer- Big Data Technologies                                   13\n",
       "Data Scientist (Knowledge Graph)                                  13\n",
       "Data Engineer - Python (High Frequency Trading)                   13\n",
       "Data Engineers - Big Data                                         13\n",
       "Senior Data Scientist - Macquarie Park/WfH                        13\n",
       "Senior AI Systems Engineer                                        13\n",
       "Machine Learning Lead                                             13\n",
       "Senior Data Scientist                                             13\n",
       "AI Engineer                                                       13\n",
       "Senior Data Engineer/Machine Learning                             13\n",
       "Machine Learning Data Scientist                                   13\n",
       "PhD Studentships in Automated and Transparent Machine Learning    13\n",
       "Analytics Engineer                                                13\n",
       "Data Scientist - Life and Investments                             11\n",
       "Principal Data Consultant                                         11\n",
       "Data Engineer | BIG W                                              5\n",
       "Data Scientist (AIPS - Recs)                                       4\n",
       "Name: title, dtype: int64"
      ]
     },
     "execution_count": 61,
     "metadata": {},
     "output_type": "execute_result"
    }
   ],
   "source": [
    "df1.title.value_counts()"
   ]
  },
  {
   "cell_type": "code",
   "execution_count": 62,
   "id": "59b12257",
   "metadata": {},
   "outputs": [
    {
     "data": {
      "text/plain": [
       "Information & Communication Technology    360\n",
       "Science & Technology                       91\n",
       "Banking & Financial Services               39\n",
       "Education & Training                       13\n",
       "Government & Defence                       13\n",
       "Consulting & Strategy                       4\n",
       "Name: class, dtype: int64"
      ]
     },
     "execution_count": 62,
     "metadata": {},
     "output_type": "execute_result"
    }
   ],
   "source": [
    "df1['class'].value_counts()"
   ]
  },
  {
   "cell_type": "code",
   "execution_count": 63,
   "id": "873a2aaf",
   "metadata": {},
   "outputs": [
    {
     "data": {
      "text/html": [
       "<div>\n",
       "<style scoped>\n",
       "    .dataframe tbody tr th:only-of-type {\n",
       "        vertical-align: middle;\n",
       "    }\n",
       "\n",
       "    .dataframe tbody tr th {\n",
       "        vertical-align: top;\n",
       "    }\n",
       "\n",
       "    .dataframe thead th {\n",
       "        text-align: right;\n",
       "    }\n",
       "</style>\n",
       "<table border=\"1\" class=\"dataframe\">\n",
       "  <thead>\n",
       "    <tr style=\"text-align: right;\">\n",
       "      <th></th>\n",
       "      <th>min_salary</th>\n",
       "    </tr>\n",
       "    <tr>\n",
       "      <th>location</th>\n",
       "      <th></th>\n",
       "    </tr>\n",
       "  </thead>\n",
       "  <tbody>\n",
       "    <tr>\n",
       "      <th>Bella Vista</th>\n",
       "      <td>5</td>\n",
       "    </tr>\n",
       "    <tr>\n",
       "      <th>Macquarie Park</th>\n",
       "      <td>13</td>\n",
       "    </tr>\n",
       "    <tr>\n",
       "      <th>Minchinbury</th>\n",
       "      <td>6</td>\n",
       "    </tr>\n",
       "    <tr>\n",
       "      <th>North Shore &amp; Northern Beaches</th>\n",
       "      <td>11</td>\n",
       "    </tr>\n",
       "    <tr>\n",
       "      <th>North Sydney</th>\n",
       "      <td>39</td>\n",
       "    </tr>\n",
       "    <tr>\n",
       "      <th>Parliament House</th>\n",
       "      <td>26</td>\n",
       "    </tr>\n",
       "    <tr>\n",
       "      <th>Sydney NSW</th>\n",
       "      <td>420</td>\n",
       "    </tr>\n",
       "  </tbody>\n",
       "</table>\n",
       "</div>"
      ],
      "text/plain": [
       "                                min_salary\n",
       "location                                  \n",
       "Bella Vista                              5\n",
       "Macquarie Park                          13\n",
       "Minchinbury                              6\n",
       "North Shore & Northern Beaches          11\n",
       "North Sydney                            39\n",
       "Parliament House                        26\n",
       "Sydney NSW                             420"
      ]
     },
     "execution_count": 63,
     "metadata": {},
     "output_type": "execute_result"
    }
   ],
   "source": [
    "job_by_state = df1.groupby(['location'])[['min_salary']].count()\n",
    "job_by_state"
   ]
  },
  {
   "cell_type": "code",
   "execution_count": 64,
   "id": "e3d181c7",
   "metadata": {},
   "outputs": [
    {
     "name": "stdout",
     "output_type": "stream",
     "text": [
      "{'company': {'AC3 Pty Limited': 0, 'ASIC': 1, 'Aldi Stores': 2, 'Alloc8': 3, 'Bet Technology': 4, 'Big W': 5, 'Bluefin Resources Pty Limited': 6, 'CPB Contractors Pty Limited': 7, 'CatapultBI': 8, 'Charterhouse': 9, 'Correlate Resources': 10, 'EY': 11, 'Intelligen Pty Ltd': 12, \"Laing O'Rourke Australia Construction Pty Limited\": 13, 'NewyTechPeople': 14, 'PRA': 15, 'Pearson Australia': 16, 'Precision Sourcing': 17, 'Robert Walters': 18, 'SEEK Limited': 19, 'Stockland': 20, 'Susquehanna Pacific Pty Ltd': 21, 'SustainAbility Consulting': 22, 'Talent Insights Group Pty Ltd': 23, 'The Argyle Network': 24, 'The Onset': 25, 'TheDriveGroup': 26, 'University of Technology Sydney': 27, 'Versent Pty Ltd': 28, 'Westbury Partners': 29, 'Westpac Group': 30, 'Zurich Financial Services Australia': 31}}\n"
     ]
    }
   ],
   "source": [
    "from sklearn import preprocessing\n",
    "\n",
    "category_col =['class', 'location','title','company']  \n",
    "#df1=df1[category_col]\n",
    "labelEncoder = preprocessing.LabelEncoder() \n",
    "  \n",
    "mapping_dict ={} \n",
    "for col in category_col: \n",
    "    df1[col] = labelEncoder.fit_transform(df1[col]) \n",
    "  \n",
    "    le_name_mapping = dict(zip(labelEncoder.classes_, \n",
    "                        labelEncoder.transform(labelEncoder.classes_))) \n",
    "mapping_dict[col]= le_name_mapping \n",
    "print(mapping_dict) "
   ]
  },
  {
   "cell_type": "code",
   "execution_count": 65,
   "id": "7c5b8252",
   "metadata": {},
   "outputs": [
    {
     "data": {
      "text/html": [
       "<div>\n",
       "<style scoped>\n",
       "    .dataframe tbody tr th:only-of-type {\n",
       "        vertical-align: middle;\n",
       "    }\n",
       "\n",
       "    .dataframe tbody tr th {\n",
       "        vertical-align: top;\n",
       "    }\n",
       "\n",
       "    .dataframe thead th {\n",
       "        text-align: right;\n",
       "    }\n",
       "</style>\n",
       "<table border=\"1\" class=\"dataframe\">\n",
       "  <thead>\n",
       "    <tr style=\"text-align: right;\">\n",
       "      <th></th>\n",
       "      <th>description</th>\n",
       "      <th>title</th>\n",
       "      <th>company</th>\n",
       "      <th>location</th>\n",
       "      <th>class</th>\n",
       "      <th>days_before</th>\n",
       "      <th>max_salary</th>\n",
       "      <th>min_salary</th>\n",
       "      <th>avg_salary</th>\n",
       "    </tr>\n",
       "  </thead>\n",
       "  <tbody>\n",
       "    <tr>\n",
       "      <th>0</th>\n",
       "      <td>Work with a leading business to continue to bu...</td>\n",
       "      <td>13</td>\n",
       "      <td>26</td>\n",
       "      <td>6</td>\n",
       "      <td>4</td>\n",
       "      <td>5d ago</td>\n",
       "      <td>160.0</td>\n",
       "      <td>150</td>\n",
       "      <td>155.0</td>\n",
       "    </tr>\n",
       "    <tr>\n",
       "      <th>1</th>\n",
       "      <td>Looking for exceptional Machine Learning Engin...</td>\n",
       "      <td>13</td>\n",
       "      <td>9</td>\n",
       "      <td>6</td>\n",
       "      <td>4</td>\n",
       "      <td>5d ago</td>\n",
       "      <td>270.0</td>\n",
       "      <td>220</td>\n",
       "      <td>245.0</td>\n",
       "    </tr>\n",
       "    <tr>\n",
       "      <th>2</th>\n",
       "      <td>Picture this… you, working on software that tr...</td>\n",
       "      <td>13</td>\n",
       "      <td>25</td>\n",
       "      <td>6</td>\n",
       "      <td>4</td>\n",
       "      <td>21h ago</td>\n",
       "      <td>140.0</td>\n",
       "      <td>120</td>\n",
       "      <td>130.0</td>\n",
       "    </tr>\n",
       "    <tr>\n",
       "      <th>3</th>\n",
       "      <td>We have an opportunity for a Junior Machine Le...</td>\n",
       "      <td>11</td>\n",
       "      <td>20</td>\n",
       "      <td>6</td>\n",
       "      <td>4</td>\n",
       "      <td>6d ago</td>\n",
       "      <td>140.0</td>\n",
       "      <td>120</td>\n",
       "      <td>130.0</td>\n",
       "    </tr>\n",
       "    <tr>\n",
       "      <th>4</th>\n",
       "      <td>The UTS Data Science Institute invites applica...</td>\n",
       "      <td>15</td>\n",
       "      <td>27</td>\n",
       "      <td>6</td>\n",
       "      <td>2</td>\n",
       "      <td>15h ago</td>\n",
       "      <td>140.0</td>\n",
       "      <td>120</td>\n",
       "      <td>130.0</td>\n",
       "    </tr>\n",
       "  </tbody>\n",
       "</table>\n",
       "</div>"
      ],
      "text/plain": [
       "                                         description  title  company  \\\n",
       "0  Work with a leading business to continue to bu...     13       26   \n",
       "1  Looking for exceptional Machine Learning Engin...     13        9   \n",
       "2  Picture this… you, working on software that tr...     13       25   \n",
       "3  We have an opportunity for a Junior Machine Le...     11       20   \n",
       "4  The UTS Data Science Institute invites applica...     15       27   \n",
       "\n",
       "   location  class days_before  max_salary  min_salary  avg_salary  \n",
       "0         6      4      5d ago       160.0         150       155.0  \n",
       "1         6      4      5d ago       270.0         220       245.0  \n",
       "2         6      4     21h ago       140.0         120       130.0  \n",
       "3         6      4      6d ago       140.0         120       130.0  \n",
       "4         6      2     15h ago       140.0         120       130.0  "
      ]
     },
     "execution_count": 65,
     "metadata": {},
     "output_type": "execute_result"
    }
   ],
   "source": [
    "df1.head()"
   ]
  },
  {
   "cell_type": "raw",
   "id": "a145c67c",
   "metadata": {},
   "source": [
    "company_mapping = {'Stockland':0, 'University of Technology Sydney':1,'Susquehanna Pacific Pty Ltd':2,\n",
    "                  'CPB Contractors Pty Limited':3,'AC3 Pty Limited':4,'TheDriveGroup':5,\n",
    "                   'The Onset': 6, 'SEEK Limited': 7, 'PRA': 8, 'Talent Insights Group Pty Ltd': 9,\n",
    "                   'Pearson Australia': 10, 'Westpac Group': 11, 'ASIC': 12,'The Argyle Network':13,\n",
    "                  'Correlate Resources':14,'Bluefin Resources Pty Limited':15}\n",
    "dummy.company = df1.company.map(company_mapping)"
   ]
  },
  {
   "cell_type": "code",
   "execution_count": 66,
   "id": "bc16610b",
   "metadata": {},
   "outputs": [],
   "source": [
    "df1=df1.drop(['days_before','max_salary','min_salary','description'],axis=1)"
   ]
  },
  {
   "cell_type": "code",
   "execution_count": 67,
   "id": "637f6970",
   "metadata": {},
   "outputs": [
    {
     "data": {
      "text/html": [
       "<div>\n",
       "<style scoped>\n",
       "    .dataframe tbody tr th:only-of-type {\n",
       "        vertical-align: middle;\n",
       "    }\n",
       "\n",
       "    .dataframe tbody tr th {\n",
       "        vertical-align: top;\n",
       "    }\n",
       "\n",
       "    .dataframe thead th {\n",
       "        text-align: right;\n",
       "    }\n",
       "</style>\n",
       "<table border=\"1\" class=\"dataframe\">\n",
       "  <thead>\n",
       "    <tr style=\"text-align: right;\">\n",
       "      <th></th>\n",
       "      <th>title</th>\n",
       "      <th>company</th>\n",
       "      <th>location</th>\n",
       "      <th>class</th>\n",
       "      <th>avg_salary</th>\n",
       "    </tr>\n",
       "  </thead>\n",
       "  <tbody>\n",
       "    <tr>\n",
       "      <th>0</th>\n",
       "      <td>13</td>\n",
       "      <td>26</td>\n",
       "      <td>6</td>\n",
       "      <td>4</td>\n",
       "      <td>155.0</td>\n",
       "    </tr>\n",
       "    <tr>\n",
       "      <th>1</th>\n",
       "      <td>13</td>\n",
       "      <td>9</td>\n",
       "      <td>6</td>\n",
       "      <td>4</td>\n",
       "      <td>245.0</td>\n",
       "    </tr>\n",
       "    <tr>\n",
       "      <th>2</th>\n",
       "      <td>13</td>\n",
       "      <td>25</td>\n",
       "      <td>6</td>\n",
       "      <td>4</td>\n",
       "      <td>130.0</td>\n",
       "    </tr>\n",
       "    <tr>\n",
       "      <th>3</th>\n",
       "      <td>11</td>\n",
       "      <td>20</td>\n",
       "      <td>6</td>\n",
       "      <td>4</td>\n",
       "      <td>130.0</td>\n",
       "    </tr>\n",
       "    <tr>\n",
       "      <th>4</th>\n",
       "      <td>15</td>\n",
       "      <td>27</td>\n",
       "      <td>6</td>\n",
       "      <td>2</td>\n",
       "      <td>130.0</td>\n",
       "    </tr>\n",
       "  </tbody>\n",
       "</table>\n",
       "</div>"
      ],
      "text/plain": [
       "   title  company  location  class  avg_salary\n",
       "0     13       26         6      4       155.0\n",
       "1     13        9         6      4       245.0\n",
       "2     13       25         6      4       130.0\n",
       "3     11       20         6      4       130.0\n",
       "4     15       27         6      2       130.0"
      ]
     },
     "execution_count": 67,
     "metadata": {},
     "output_type": "execute_result"
    }
   ],
   "source": [
    "df1.head()"
   ]
  },
  {
   "cell_type": "code",
   "execution_count": 68,
   "id": "d15cea77",
   "metadata": {},
   "outputs": [
    {
     "data": {
      "text/plain": [
       "(520, 5)"
      ]
     },
     "execution_count": 68,
     "metadata": {},
     "output_type": "execute_result"
    }
   ],
   "source": [
    "df1.shape"
   ]
  },
  {
   "cell_type": "code",
   "execution_count": 69,
   "id": "714f5cdf",
   "metadata": {},
   "outputs": [],
   "source": [
    "from nltk.stem import PorterStemmer\n",
    "import re\n",
    "\n",
    "stemmer = PorterStemmer()"
   ]
  },
  {
   "cell_type": "code",
   "execution_count": 72,
   "id": "1c721a5e",
   "metadata": {},
   "outputs": [],
   "source": [
    "def stem_sentences(sentence):\n",
    "    \n",
    "    #sentence = sentence.replace(\"[^a-zA-Z\\d\\s.]\", \" \")    \n",
    "    line = re.sub(r\"[^a-zA-Z\\d\\s.]+\", \" \", str(sentence))\n",
    "    tokens = line.replace(\".\", \" \").split()\n",
    "    stemmed_tokens = [stemmer.stem(token.strip()) for token in tokens]\n",
    "    return ' '.join(stemmed_tokens)\n"
   ]
  },
  {
   "cell_type": "code",
   "execution_count": 73,
   "id": "ac350467",
   "metadata": {},
   "outputs": [
    {
     "data": {
      "text/html": [
       "<div>\n",
       "<style scoped>\n",
       "    .dataframe tbody tr th:only-of-type {\n",
       "        vertical-align: middle;\n",
       "    }\n",
       "\n",
       "    .dataframe tbody tr th {\n",
       "        vertical-align: top;\n",
       "    }\n",
       "\n",
       "    .dataframe thead th {\n",
       "        text-align: right;\n",
       "    }\n",
       "</style>\n",
       "<table border=\"1\" class=\"dataframe\">\n",
       "  <thead>\n",
       "    <tr style=\"text-align: right;\">\n",
       "      <th></th>\n",
       "      <th>title</th>\n",
       "      <th>company</th>\n",
       "      <th>location</th>\n",
       "      <th>class</th>\n",
       "    </tr>\n",
       "  </thead>\n",
       "  <tbody>\n",
       "    <tr>\n",
       "      <th>0</th>\n",
       "      <td>13</td>\n",
       "      <td>26</td>\n",
       "      <td>6</td>\n",
       "      <td>4</td>\n",
       "    </tr>\n",
       "    <tr>\n",
       "      <th>1</th>\n",
       "      <td>13</td>\n",
       "      <td>9</td>\n",
       "      <td>6</td>\n",
       "      <td>4</td>\n",
       "    </tr>\n",
       "  </tbody>\n",
       "</table>\n",
       "</div>"
      ],
      "text/plain": [
       "   title  company  location  class\n",
       "0     13       26         6      4\n",
       "1     13        9         6      4"
      ]
     },
     "execution_count": 73,
     "metadata": {},
     "output_type": "execute_result"
    }
   ],
   "source": [
    "#df1=df1.drop(['description','max_salary','min_salary'],axis=1)\n",
    "y = df1['avg_salary']\n",
    "X = df1.drop(columns=['avg_salary'])\n",
    "X.head(2)"
   ]
  },
  {
   "cell_type": "code",
   "execution_count": 74,
   "id": "f2df2487",
   "metadata": {},
   "outputs": [],
   "source": [
    "import seaborn as sns\n",
    "\n",
    "from sklearn.feature_extraction.text import ENGLISH_STOP_WORDS\n",
    "from sklearn.feature_extraction.text import CountVectorizer, TfidfVectorizer\n",
    "\n",
    "from sklearn.feature_selection import SelectKBest, f_classif\n",
    "from sklearn.model_selection import train_test_split, cross_val_score\n",
    "from sklearn.ensemble import RandomForestClassifier\n",
    "\n",
    "\n",
    "from sklearn import metrics\n",
    "from sklearn.metrics import accuracy_score, roc_curve, auc\n",
    "from sklearn.metrics import classification_report, confusion_matrix\n",
    "\n",
    "import warnings\n",
    "warnings.filterwarnings(\"ignore\")\n",
    "\n",
    "\n",
    "%config InlineBackend.figure_format = 'retina'\n",
    "%matplotlib inline\n",
    "\n"
   ]
  },
  {
   "cell_type": "code",
   "execution_count": 75,
   "id": "9bbfb573",
   "metadata": {},
   "outputs": [],
   "source": [
    "custom_stop_words = list(ENGLISH_STOP_WORDS)\n",
    "# add own custom stopwords\n",
    "word_list = ['thi', 'skill','click', 'job', 'role', 'cover', 'letter','resume', 'apply', 'button', 'abil'\n",
    "             'quot', 'pleas', 'requir', 'phone', 'call', 'provid', 'includ', 'success', 'com', 'au', 'strong']\n",
    "for w in word_list:\n",
    "    custom_stop_words.append(w)"
   ]
  },
  {
   "cell_type": "code",
   "execution_count": 76,
   "id": "51f62c45",
   "metadata": {},
   "outputs": [],
   "source": [
    "from wordcloud import WordCloud\n",
    "def generate_word_cloud(words, freq=False):\n",
    "    \n",
    "    # if not frequency, the data is given as panda series\n",
    "    # then need to do some data processing first\n",
    "    if freq==False:\n",
    "\n",
    "        stem_words = ' '\n",
    "\n",
    "        for val in words:\n",
    "            #val = str(val).lower()\n",
    "            #line = re.sub(r\"[^a-zA-Z\\d\\s.]+\", \" \", str(val))\n",
    "            tokens = str(val).replace(\".\", \" \").split()\n",
    "            stemmed_tokens = [token.strip() for token in tokens] \n",
    "            stem_words = ' '.join(stemmed_tokens)\n",
    "\n",
    "    #'--------------------------------------------------'\n",
    "    # generate word could with some defined parameters\n",
    "    wcloud = WordCloud(width = 480, height = 480,\n",
    "                    background_color ='white', \n",
    "                    stopwords = custom_stop_words, \n",
    "                    min_font_size = 8)\n",
    "    \n",
    "    #'--------------------------------------------------'\n",
    "    # now generate word clound based\n",
    "    if freq:\n",
    "        wcloud.generate_from_frequencies(words)\n",
    "    else:\n",
    "        wcloud.generate(stem_words) \n",
    "        \n",
    "    #'--------------------------------------------------'\n",
    "    # plot the WordCloud image                        \n",
    "    plt.figure(figsize = (8, 8), facecolor = None) \n",
    "    plt.imshow(wcloud) \n",
    "    plt.axis(\"off\") \n",
    "    plt.tight_layout(pad = 0) \n",
    "\n",
    "    plt.show()"
   ]
  },
  {
   "cell_type": "code",
   "execution_count": 78,
   "id": "c78647f8",
   "metadata": {},
   "outputs": [],
   "source": [
    "#generate_word_cloud(X.summary_stem)"
   ]
  },
  {
   "cell_type": "code",
   "execution_count": 79,
   "id": "e0205f5a",
   "metadata": {},
   "outputs": [],
   "source": [
    "def tokenize_test(vec):\n",
    "    \n",
    "    # Create document-term matrices - NLP\n",
    "    #------------------------------------------------------------\n",
    "    # Fitting and Transfrom the vectorizer on training data\n",
    "    X_train_vec = vec.fit_transform(X_train['summary_stem'])\n",
    "    print('Features: ', X_train_vec.shape[1])\n",
    "\n",
    "    # Transform on test data\n",
    "    X_test_vec = vec.transform(X_test['summary_stem'])\n",
    "    #------------------------------------------------------------\n",
    "    \n",
    "    # Create dataframe after document-term matrices has been created\n",
    "    #------------------------------------------------------------\n",
    "    X_train_vec_df = pd.DataFrame(X_train_vec.todense(), columns=vec.get_feature_names())\n",
    "    X_test_vec_df = pd.DataFrame(X_test_vec.todense(), columns=vec.get_feature_names())\n",
    "    #------------------------------------------------------------\n",
    "    \n",
    "    # Extract top 10 and EDA\n",
    "    #------------------------------------------------------------\n",
    "    # top 10 words with highest frequency - work experience, management, data, team\n",
    "    words = X_train_vec_df.sum().sort_values(ascending=False) #.head(20)\n",
    "    #print(words)\n",
    "    \n",
    "    # plot top 10 words\n",
    "    #words.plot(kind='bar', figsize=(15, 5))\n",
    "    generate_word_cloud(words.to_dict(), True)\n",
    "    #------------------------------------------------------------\n",
    "    \n",
    "    # Combine to create the full set of X\n",
    "    #------------------------------------------------------------\n",
    "    # remove stem columns as it now has been processed\n",
    "    mask_train_df = X_train.drop('summary_stem',axis=1).reset_index(drop=True)\n",
    "    mask_test_df = X_test.drop('summary_stem',axis=1).reset_index(drop=True)\n",
    "\n",
    "    # time to put the data back to the main X_train and X_test\n",
    "    X_train_dtm = pd.concat([mask_train_df, X_train_vec_df], axis=1)\n",
    "    X_test_dtm = pd.concat([mask_test_df, X_test_vec_df], axis=1)\n",
    "    #------------------------------------------------------------\n",
    "    \n",
    "    \n",
    "    # Kbest Feature Selection after NLP\n",
    "    #----------------------------------------------------------\n",
    "    # build the selector (build one with each score type)\n",
    "    skb_f = SelectKBest(f_classif) # default is k=10)\n",
    "\n",
    "    # train the selector on data\n",
    "    skb_f.fit(X_train_dtm, y_train)\n",
    "\n",
    "    # examine results\n",
    "    kbest = pd.DataFrame({'variable': X_train_dtm.columns.values.tolist(),\n",
    "                         'score': list(skb_f.scores_)}).sort_values('score', ascending = False)\n",
    "    \n",
    "    kbest.columns = ['kBest_features', 'kBest_score']    \n",
    "    kbest.reset_index(inplace=True, drop=True)\n",
    "\n",
    "    # plot top 10 features\n",
    "    kbest.head(20).plot(kind='bar', x='kBest_features', y='kBest_score', figsize=(15,5), grid=True)\n",
    "    \n",
    "    X_Ktrain = X_train_dtm[kbest.kBest_features]\n",
    "    X_Ktest = X_test_dtm[kbest.kBest_features]\n",
    "\n",
    "    return (X_Ktrain, X_Ktest)"
   ]
  },
  {
   "cell_type": "code",
   "execution_count": 80,
   "id": "8be4c415",
   "metadata": {},
   "outputs": [
    {
     "data": {
      "text/plain": [
       "RandomForestRegressor(max_depth=50, n_jobs=-1)"
      ]
     },
     "execution_count": 80,
     "metadata": {},
     "output_type": "execute_result"
    }
   ],
   "source": [
    "from sklearn.ensemble import RandomForestRegressor\n",
    "tvec = TfidfVectorizer(ngram_range=(2,3), stop_words=custom_stop_words, max_features=1000)\n",
    "\n",
    "\n",
    "#X = TfidV.fit_transform(X)\n",
    "#X=tvec.fit_transform(X)\n",
    "\n",
    "\n",
    "from sklearn.model_selection import train_test_split\n",
    "from sklearn.metrics import confusion_matrix, f1_score\n",
    "\n",
    "X_train, X_test, y_train, y_test = train_test_split(X, y, test_size=0.3, stratify=y)\n",
    "\n",
    "#X_train, X_test = tokenize_test(tvec)\n",
    "\n",
    "model=RandomForestRegressor(max_depth=50,n_estimators=100, n_jobs=-1)\n",
    "model.fit(X_train, y_train)\n",
    "\n"
   ]
  },
  {
   "cell_type": "code",
   "execution_count": 81,
   "id": "8d01832a",
   "metadata": {},
   "outputs": [],
   "source": [
    "import numpy as np\n",
    "y_pred = model.predict(X_test)\n"
   ]
  },
  {
   "cell_type": "code",
   "execution_count": 82,
   "id": "883ac84e",
   "metadata": {},
   "outputs": [
    {
     "name": "stdout",
     "output_type": "stream",
     "text": [
      "Mean Absolute Error: 22.16 degrees.\n"
     ]
    }
   ],
   "source": [
    "import numpy as np\n",
    "y_pred = model.predict(X_test)\n",
    "\n",
    "#from sklearn.metrics import confusion_matrix, f1_score\n",
    "\n",
    "from sklearn.metrics import confusion_matrix, f1_score\n",
    "\n",
    "errors = abs(y_pred - y_test)\n",
    "# Print out the mean absolute error (mae)\n",
    "print('Mean Absolute Error:', round(np.mean(errors), 2), 'degrees.')"
   ]
  },
  {
   "cell_type": "code",
   "execution_count": 83,
   "id": "05c901ab",
   "metadata": {},
   "outputs": [
    {
     "name": "stdout",
     "output_type": "stream",
     "text": [
      "Accuracy: 88.23 %.\n"
     ]
    }
   ],
   "source": [
    "mape = 100 * (errors / y_test)\n",
    "# Calculate and display accuracy\n",
    "accuracy = 100 - np.mean(mape)\n",
    "print('Accuracy:', round(accuracy, 2), '%.')"
   ]
  },
  {
   "cell_type": "code",
   "execution_count": 84,
   "id": "b97f9622",
   "metadata": {},
   "outputs": [],
   "source": [
    "import pickle\n",
    "with open('seek_predict11.pkl', 'wb') as file:\n",
    "    pickle.dump(model, file)\n",
    "    \n"
   ]
  }
 ],
 "metadata": {
  "kernelspec": {
   "display_name": "Python 3 (ipykernel)",
   "language": "python",
   "name": "python3"
  },
  "language_info": {
   "codemirror_mode": {
    "name": "ipython",
    "version": 3
   },
   "file_extension": ".py",
   "mimetype": "text/x-python",
   "name": "python",
   "nbconvert_exporter": "python",
   "pygments_lexer": "ipython3",
   "version": "3.9.12"
  }
 },
 "nbformat": 4,
 "nbformat_minor": 5
}
